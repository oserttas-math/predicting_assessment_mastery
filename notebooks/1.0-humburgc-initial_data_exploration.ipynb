{
 "cells": [
  {
   "cell_type": "markdown",
   "metadata": {},
   "source": [
    "<a id='top'></a>"
   ]
  },
  {
   "cell_type": "markdown",
   "metadata": {},
   "source": [
    "# Academic Mastery Study"
   ]
  },
  {
   "cell_type": "markdown",
   "metadata": {},
   "source": [
    "## THE DATA\n",
    "---\n",
    "Available from the [Grockit competition on Kaggle]( https://www.kaggle.com/c/WhatDoYouKnow/data).\n",
    "```python\n",
    "category_labels.csv\n",
    "test.csv\n",
    "training.csv\n",
    "valid_test.csv\n",
    "valid_training.csv\n",
    "```\n",
    "Test data does not include `answer_id` or `outcome` (from which correctness could be determined).\n",
    "\n",
    "The test/training split is derived by finding *users who answered at least 6 questions*, taking **one** of their answers (uniformly random, *from their 6th question to their last*), and inserting it into the **test set**.\n",
    "* Any *later answers by this user* are removed, \n",
    "* and any *earlier answers are included in the **training set***.  \n",
    "* All answers *from users not in the test set are also used for the training set* (as they may be useful in estimating question parameters or baseline ability distributions).\n",
    "\n",
    "The **test data** distribution is thus different from **training data** in ways that may be significant.  \n",
    "* First, it does not include 'timeout' or 'skipped' outcomes: all test results are from the student actually answering the question.  \n",
    "* Second, it is biased towards users with more questions in the training set and biased towards their later answers.  \n",
    "* Third, it is one entry per user, so the distribution of various aspects of the data (such as correct/incorrect) is over users, not over all answered questions.\n",
    "\n",
    "[Grockit/kaggle] have attempted to provide a reasonable validation split on the **training set** by taking the previous correct/incorrect answer for each of the students in the **test set**, for those users who had at least one previous answer.  \n",
    "* The results are in the additional files `valid_training.csv` and `valid_test.csv`. \n",
    "* Participants may find it helpful to compare potential algorithms by training on the `valid_training.csv` file and computing their performance on the `valid_test.csv` files.  However, there is no guarantee that this is an optimal validation set.\n",
    "\n",
    "---\n",
    "\n",
    "**`correct`: `0` or `1` [TARGET] - indicates whether the student answered the question correctly.**\n",
    "\n",
    "---\n",
    "**`user_id`**: [[**categorical**]](#user_id) - anonymized numeric identifier for the user answering the question.\n",
    "\n",
    "    1. How many users are there?   \n",
    "    2. Distribution of questions per user?\n",
    "    3. Distribution of correct/incorrect questions per user?\n",
    "    4. Ratio - correct/(correct + incorrect) - per user?  \n",
    "---       \n",
    "**`question_id`**: [[**categorical**]](#question_id) - a numeric identifier for the question being answered.\n",
    "\n",
    "    1. How many unique questions are there?\n",
    "    2. How many of them are correct and incorrect?\n",
    "    3. Distribution of users per question?\n",
    "---       \n",
    "**`question_type`**: [[**categorical**]](#question_type) - a numeric code representing the type of question; either `MultipleChoiceOneCorrect` (`0`) for multiple choice, or `SPR` (`1`) for free response questions.\n",
    "\n",
    "    1. Frequency and distribution of these two categories?\n",
    "---    \n",
    "**`group_name`**: [[**categorical**]](#group_name) - a numeric code representing the group of the question `{'act':0, 'gmat':1, 'sat':2}`.\n",
    "\n",
    "    1. Frequency and distribution of these categories?\n",
    "---\n",
    "\n",
    "`group_name`\n",
    "\n",
    "     track_name   \n",
    "        \n",
    "        subtrack_name\n",
    "    \n",
    "            tag_string\n",
    "\n",
    "\n",
    "---\n",
    "**`track_name`**: [[**categorical**]](#track_name) - the numeric code for the track within the test this question is associated with (mappings from category fields to numeric values are in `category_labels.csv`).\n",
    "\n",
    "    1. Frequency and distribution of these categories?\n",
    "---\n",
    "**`subtrack_name`**: [[**categorical**]](#subtrack_name) - the numeric code for the subtrack within the track this question is associated with (mappings from category fields to numeric values are in category_labels.csv).\n",
    "\n",
    "---\n",
    "**`tag_string`**: [[**categorical**]](#tag_string) - a space-separated list of tag ids this question has been tagged with (mappings from category fields to numeric values are in category_labels.csv).\n",
    "\n",
    "---\n",
    "**`round_started_at`**: [[**numeric**]](#round_started_at) [use this as reference date] - a UTC timestamp indicating when the user saw the question.\n",
    "\n",
    "---\n",
    "**`answered_at`**: [[**numeric**]](#answered_at) [minutes from reference date] - a UTC timestamp indicating when the user answered the question (NULL if not answered).\n",
    "\n",
    "    1. What is the number of NULLs and the % of the total?\n",
    "---\n",
    "**`deactivated_at`**: [[**numeric**]](#deactivated_at) [minutes from reference date] - a UTC timestamp indicating when the round finished, either because of being answered or timing out.\n",
    "\n",
    "    1. Are there any NULLs?\n",
    "---\n",
    "**`game_type`**: [[**categorical**]](#game_type) - indicates the type of game/study session (mappings from category fields to numeric values are in category_labels.csv).\n",
    "\n",
    "---\n",
    "**`num_players`**: [[**numeric**]](#num_players) - the number of players in the game at the time (multiple people can be viewing the same question simultaneously).\n",
    "\n",
    "    1. Distribution of number of players per question?\n",
    "---\n",
    "**`date_of_test`**: [[**numeric**]](#date_of_test) [minutes from reference date] - the date the user entered as their expected test date (if entered).\n",
    "\n",
    "    1. How many NULLs and % of the total?\n",
    "---  \n",
    "**For all categorical features: how many categories are there?**\n",
    "\n",
    "**For numeric features: mean, std, median?**\n",
    "\n",
    "**For all ration of missing data (NULLs %)?**\n",
    "\n",
    "---"
   ]
  },
  {
   "cell_type": "markdown",
   "metadata": {},
   "source": [
    "## INITIAL EXPLORATION"
   ]
  },
  {
   "cell_type": "code",
   "execution_count": 1,
   "metadata": {
    "collapsed": true
   },
   "outputs": [],
   "source": [
    "import numpy as np\n",
    "import pandas as pd\n",
    "from scipy import stats, integrate\n",
    "import matplotlib.pyplot as plt\n",
    "import seaborn as sns\n",
    "from collections import Counter"
   ]
  },
  {
   "cell_type": "markdown",
   "metadata": {},
   "source": [
    "### training.csv\n",
    "#### Info, Missing &amp; Useless Data\n",
    "---"
   ]
  },
  {
   "cell_type": "code",
   "execution_count": 2,
   "metadata": {},
   "outputs": [
    {
     "name": "stdout",
     "output_type": "stream",
     "text": [
      "<class 'pandas.core.frame.DataFrame'>\n",
      "RangeIndex: 4851475 entries, 0 to 4851474\n",
      "Data columns (total 14 columns):\n",
      "correct             int64\n",
      "user_id             int64\n",
      "question_id         int64\n",
      "question_type       int64\n",
      "group_name          int64\n",
      "track_name          int64\n",
      "subtrack_name       int64\n",
      "tag_string          object\n",
      "round_started_at    object\n",
      "answered_at         object\n",
      "deactivated_at      object\n",
      "game_type           int64\n",
      "num_players         int64\n",
      "date_of_test        object\n",
      "dtypes: int64(9), object(5)\n",
      "memory usage: 518.2+ MB\n"
     ]
    }
   ],
   "source": [
    "df = pd.read_csv('../data/raw/training.csv', parse_dates=True) # https://www.kaggle.com/c/WhatDoYouKnow/data\n",
    "df = df.drop(['outcome', 'answer_id', 'question_set_id'], axis='columns')\n",
    "df.info() "
   ]
  },
  {
   "cell_type": "code",
   "execution_count": 3,
   "metadata": {},
   "outputs": [
    {
     "data": {
      "text/html": [
       "<div>\n",
       "<style>\n",
       "    .dataframe thead tr:only-child th {\n",
       "        text-align: right;\n",
       "    }\n",
       "\n",
       "    .dataframe thead th {\n",
       "        text-align: left;\n",
       "    }\n",
       "\n",
       "    .dataframe tbody tr th {\n",
       "        vertical-align: top;\n",
       "    }\n",
       "</style>\n",
       "<table border=\"1\" class=\"dataframe\">\n",
       "  <thead>\n",
       "    <tr style=\"text-align: right;\">\n",
       "      <th></th>\n",
       "      <th>correct</th>\n",
       "      <th>user_id</th>\n",
       "      <th>question_id</th>\n",
       "      <th>question_type</th>\n",
       "      <th>group_name</th>\n",
       "      <th>track_name</th>\n",
       "      <th>subtrack_name</th>\n",
       "      <th>tag_string</th>\n",
       "      <th>round_started_at</th>\n",
       "      <th>answered_at</th>\n",
       "      <th>deactivated_at</th>\n",
       "      <th>game_type</th>\n",
       "      <th>num_players</th>\n",
       "      <th>date_of_test</th>\n",
       "    </tr>\n",
       "  </thead>\n",
       "  <tbody>\n",
       "    <tr>\n",
       "      <th>0</th>\n",
       "      <td>0</td>\n",
       "      <td>85818</td>\n",
       "      <td>5560</td>\n",
       "      <td>0</td>\n",
       "      <td>1</td>\n",
       "      <td>5</td>\n",
       "      <td>14</td>\n",
       "      <td>222 233 240 246</td>\n",
       "      <td>2010-08-18 20:17:13</td>\n",
       "      <td>2010-08-18 20:18:18</td>\n",
       "      <td>2010-08-18 20:18:18</td>\n",
       "      <td>7</td>\n",
       "      <td>1</td>\n",
       "      <td>NaN</td>\n",
       "    </tr>\n",
       "    <tr>\n",
       "      <th>1</th>\n",
       "      <td>1</td>\n",
       "      <td>85818</td>\n",
       "      <td>4681</td>\n",
       "      <td>0</td>\n",
       "      <td>1</td>\n",
       "      <td>5</td>\n",
       "      <td>0</td>\n",
       "      <td>24 49</td>\n",
       "      <td>2010-08-18 20:19:12</td>\n",
       "      <td>2010-08-18 20:20:34</td>\n",
       "      <td>2010-08-18 20:20:34</td>\n",
       "      <td>7</td>\n",
       "      <td>1</td>\n",
       "      <td>NaN</td>\n",
       "    </tr>\n",
       "    <tr>\n",
       "      <th>2</th>\n",
       "      <td>1</td>\n",
       "      <td>85818</td>\n",
       "      <td>1529</td>\n",
       "      <td>0</td>\n",
       "      <td>1</td>\n",
       "      <td>5</td>\n",
       "      <td>0</td>\n",
       "      <td>31 49</td>\n",
       "      <td>2010-08-18 20:20:42</td>\n",
       "      <td>2010-08-18 20:21:56</td>\n",
       "      <td>2010-08-18 20:21:56</td>\n",
       "      <td>7</td>\n",
       "      <td>1</td>\n",
       "      <td>NaN</td>\n",
       "    </tr>\n",
       "    <tr>\n",
       "      <th>3</th>\n",
       "      <td>1</td>\n",
       "      <td>85818</td>\n",
       "      <td>2908</td>\n",
       "      <td>0</td>\n",
       "      <td>1</td>\n",
       "      <td>5</td>\n",
       "      <td>0</td>\n",
       "      <td>31 49</td>\n",
       "      <td>2010-08-18 20:22:03</td>\n",
       "      <td>2010-08-18 20:23:05</td>\n",
       "      <td>2010-08-18 20:23:05</td>\n",
       "      <td>7</td>\n",
       "      <td>1</td>\n",
       "      <td>NaN</td>\n",
       "    </tr>\n",
       "    <tr>\n",
       "      <th>4</th>\n",
       "      <td>1</td>\n",
       "      <td>85818</td>\n",
       "      <td>1773</td>\n",
       "      <td>0</td>\n",
       "      <td>1</td>\n",
       "      <td>5</td>\n",
       "      <td>11</td>\n",
       "      <td>183 194 207</td>\n",
       "      <td>2010-08-18 20:23:11</td>\n",
       "      <td>2010-08-18 20:26:08</td>\n",
       "      <td>2010-08-18 20:26:08</td>\n",
       "      <td>7</td>\n",
       "      <td>1</td>\n",
       "      <td>NaN</td>\n",
       "    </tr>\n",
       "  </tbody>\n",
       "</table>\n",
       "</div>"
      ],
      "text/plain": [
       "   correct  user_id  question_id  question_type  group_name  track_name  \\\n",
       "0        0    85818         5560              0           1           5   \n",
       "1        1    85818         4681              0           1           5   \n",
       "2        1    85818         1529              0           1           5   \n",
       "3        1    85818         2908              0           1           5   \n",
       "4        1    85818         1773              0           1           5   \n",
       "\n",
       "   subtrack_name       tag_string     round_started_at          answered_at  \\\n",
       "0             14  222 233 240 246  2010-08-18 20:17:13  2010-08-18 20:18:18   \n",
       "1              0            24 49  2010-08-18 20:19:12  2010-08-18 20:20:34   \n",
       "2              0            31 49  2010-08-18 20:20:42  2010-08-18 20:21:56   \n",
       "3              0            31 49  2010-08-18 20:22:03  2010-08-18 20:23:05   \n",
       "4             11      183 194 207  2010-08-18 20:23:11  2010-08-18 20:26:08   \n",
       "\n",
       "        deactivated_at  game_type  num_players date_of_test  \n",
       "0  2010-08-18 20:18:18          7            1          NaN  \n",
       "1  2010-08-18 20:20:34          7            1          NaN  \n",
       "2  2010-08-18 20:21:56          7            1          NaN  \n",
       "3  2010-08-18 20:23:05          7            1          NaN  \n",
       "4  2010-08-18 20:26:08          7            1          NaN  "
      ]
     },
     "execution_count": 3,
     "metadata": {},
     "output_type": "execute_result"
    }
   ],
   "source": [
    "df.head() "
   ]
  },
  {
   "cell_type": "code",
   "execution_count": 4,
   "metadata": {},
   "outputs": [
    {
     "name": "stdout",
     "output_type": "stream",
     "text": [
      "<class 'pandas.core.frame.DataFrame'>\n",
      "MultiIndex: 4851475 entries, (0, 2011-08-26 16:54:31) to (179105, 2010-05-26 06:30:43)\n",
      "Data columns (total 12 columns):\n",
      "correct           int64\n",
      "question_id       int64\n",
      "question_type     int64\n",
      "group_name        int64\n",
      "track_name        int64\n",
      "subtrack_name     int64\n",
      "tag_string        object\n",
      "answered_at       object\n",
      "deactivated_at    object\n",
      "game_type         int64\n",
      "num_players       int64\n",
      "date_of_test      object\n",
      "dtypes: int64(8), object(4)\n",
      "memory usage: 514.6+ MB\n"
     ]
    },
    {
     "data": {
      "text/html": [
       "<div>\n",
       "<style>\n",
       "    .dataframe thead tr:only-child th {\n",
       "        text-align: right;\n",
       "    }\n",
       "\n",
       "    .dataframe thead th {\n",
       "        text-align: left;\n",
       "    }\n",
       "\n",
       "    .dataframe tbody tr th {\n",
       "        vertical-align: top;\n",
       "    }\n",
       "</style>\n",
       "<table border=\"1\" class=\"dataframe\">\n",
       "  <thead>\n",
       "    <tr style=\"text-align: right;\">\n",
       "      <th></th>\n",
       "      <th></th>\n",
       "      <th>correct</th>\n",
       "      <th>question_id</th>\n",
       "      <th>question_type</th>\n",
       "      <th>group_name</th>\n",
       "      <th>track_name</th>\n",
       "      <th>subtrack_name</th>\n",
       "      <th>tag_string</th>\n",
       "      <th>answered_at</th>\n",
       "      <th>deactivated_at</th>\n",
       "      <th>game_type</th>\n",
       "      <th>num_players</th>\n",
       "      <th>date_of_test</th>\n",
       "    </tr>\n",
       "    <tr>\n",
       "      <th>user_id</th>\n",
       "      <th>round_started_at</th>\n",
       "      <th></th>\n",
       "      <th></th>\n",
       "      <th></th>\n",
       "      <th></th>\n",
       "      <th></th>\n",
       "      <th></th>\n",
       "      <th></th>\n",
       "      <th></th>\n",
       "      <th></th>\n",
       "      <th></th>\n",
       "      <th></th>\n",
       "      <th></th>\n",
       "    </tr>\n",
       "  </thead>\n",
       "  <tbody>\n",
       "    <tr>\n",
       "      <th rowspan=\"5\" valign=\"top\">0</th>\n",
       "      <th>2011-08-26 16:54:31</th>\n",
       "      <td>1</td>\n",
       "      <td>5937</td>\n",
       "      <td>0</td>\n",
       "      <td>0</td>\n",
       "      <td>2</td>\n",
       "      <td>10</td>\n",
       "      <td>17 122 171 206</td>\n",
       "      <td>2011-08-26 16:55:51</td>\n",
       "      <td>2011-08-26 16:55:53</td>\n",
       "      <td>7</td>\n",
       "      <td>1</td>\n",
       "      <td>NaN</td>\n",
       "    </tr>\n",
       "    <tr>\n",
       "      <th>2011-08-26 16:56:12</th>\n",
       "      <td>1</td>\n",
       "      <td>294</td>\n",
       "      <td>0</td>\n",
       "      <td>0</td>\n",
       "      <td>2</td>\n",
       "      <td>10</td>\n",
       "      <td>0 100 171 206</td>\n",
       "      <td>2011-08-26 16:56:31</td>\n",
       "      <td>2011-08-26 16:56:33</td>\n",
       "      <td>7</td>\n",
       "      <td>1</td>\n",
       "      <td>NaN</td>\n",
       "    </tr>\n",
       "    <tr>\n",
       "      <th>2011-08-26 16:56:39</th>\n",
       "      <td>0</td>\n",
       "      <td>5625</td>\n",
       "      <td>0</td>\n",
       "      <td>0</td>\n",
       "      <td>2</td>\n",
       "      <td>10</td>\n",
       "      <td>40 124 171 206</td>\n",
       "      <td>2011-08-26 16:56:54</td>\n",
       "      <td>2011-08-26 16:56:55</td>\n",
       "      <td>7</td>\n",
       "      <td>1</td>\n",
       "      <td>NaN</td>\n",
       "    </tr>\n",
       "    <tr>\n",
       "      <th>2011-08-26 16:57:05</th>\n",
       "      <td>1</td>\n",
       "      <td>4322</td>\n",
       "      <td>0</td>\n",
       "      <td>0</td>\n",
       "      <td>2</td>\n",
       "      <td>10</td>\n",
       "      <td>18 139 171 206</td>\n",
       "      <td>2011-08-26 16:57:24</td>\n",
       "      <td>2011-08-26 16:57:25</td>\n",
       "      <td>7</td>\n",
       "      <td>1</td>\n",
       "      <td>NaN</td>\n",
       "    </tr>\n",
       "    <tr>\n",
       "      <th>2011-08-26 16:57:29</th>\n",
       "      <td>1</td>\n",
       "      <td>5024</td>\n",
       "      <td>0</td>\n",
       "      <td>0</td>\n",
       "      <td>2</td>\n",
       "      <td>10</td>\n",
       "      <td>104 127 171 206</td>\n",
       "      <td>2011-08-26 16:57:51</td>\n",
       "      <td>2011-08-26 16:57:52</td>\n",
       "      <td>7</td>\n",
       "      <td>1</td>\n",
       "      <td>NaN</td>\n",
       "    </tr>\n",
       "  </tbody>\n",
       "</table>\n",
       "</div>"
      ],
      "text/plain": [
       "                             correct  question_id  question_type  group_name  \\\n",
       "user_id round_started_at                                                       \n",
       "0       2011-08-26 16:54:31        1         5937              0           0   \n",
       "        2011-08-26 16:56:12        1          294              0           0   \n",
       "        2011-08-26 16:56:39        0         5625              0           0   \n",
       "        2011-08-26 16:57:05        1         4322              0           0   \n",
       "        2011-08-26 16:57:29        1         5024              0           0   \n",
       "\n",
       "                             track_name  subtrack_name       tag_string  \\\n",
       "user_id round_started_at                                                  \n",
       "0       2011-08-26 16:54:31           2             10   17 122 171 206   \n",
       "        2011-08-26 16:56:12           2             10    0 100 171 206   \n",
       "        2011-08-26 16:56:39           2             10   40 124 171 206   \n",
       "        2011-08-26 16:57:05           2             10   18 139 171 206   \n",
       "        2011-08-26 16:57:29           2             10  104 127 171 206   \n",
       "\n",
       "                                     answered_at       deactivated_at  \\\n",
       "user_id round_started_at                                                \n",
       "0       2011-08-26 16:54:31  2011-08-26 16:55:51  2011-08-26 16:55:53   \n",
       "        2011-08-26 16:56:12  2011-08-26 16:56:31  2011-08-26 16:56:33   \n",
       "        2011-08-26 16:56:39  2011-08-26 16:56:54  2011-08-26 16:56:55   \n",
       "        2011-08-26 16:57:05  2011-08-26 16:57:24  2011-08-26 16:57:25   \n",
       "        2011-08-26 16:57:29  2011-08-26 16:57:51  2011-08-26 16:57:52   \n",
       "\n",
       "                             game_type  num_players date_of_test  \n",
       "user_id round_started_at                                          \n",
       "0       2011-08-26 16:54:31          7            1          NaN  \n",
       "        2011-08-26 16:56:12          7            1          NaN  \n",
       "        2011-08-26 16:56:39          7            1          NaN  \n",
       "        2011-08-26 16:57:05          7            1          NaN  \n",
       "        2011-08-26 16:57:29          7            1          NaN  "
      ]
     },
     "execution_count": 4,
     "metadata": {},
     "output_type": "execute_result"
    }
   ],
   "source": [
    "df_by_user_start = df.set_index(['user_id', 'round_started_at']).sort_index()\n",
    "df_by_user_start.info()\n",
    "df_by_user_start.head() "
   ]
  },
  {
   "cell_type": "code",
   "execution_count": 5,
   "metadata": {},
   "outputs": [
    {
     "data": {
      "text/html": [
       "<div>\n",
       "<style>\n",
       "    .dataframe thead tr:only-child th {\n",
       "        text-align: right;\n",
       "    }\n",
       "\n",
       "    .dataframe thead th {\n",
       "        text-align: left;\n",
       "    }\n",
       "\n",
       "    .dataframe tbody tr th {\n",
       "        vertical-align: top;\n",
       "    }\n",
       "</style>\n",
       "<table border=\"1\" class=\"dataframe\">\n",
       "  <thead>\n",
       "    <tr style=\"text-align: right;\">\n",
       "      <th></th>\n",
       "      <th></th>\n",
       "      <th>answered_at</th>\n",
       "      <th>deactivated_at</th>\n",
       "      <th>correct</th>\n",
       "      <th>group_name</th>\n",
       "      <th>track_name</th>\n",
       "      <th>subtrack_name</th>\n",
       "      <th>tag_string</th>\n",
       "      <th>question_id</th>\n",
       "      <th>question_type</th>\n",
       "      <th>game_type</th>\n",
       "      <th>num_players</th>\n",
       "      <th>date_of_test</th>\n",
       "    </tr>\n",
       "    <tr>\n",
       "      <th>user_id</th>\n",
       "      <th>round_started_at</th>\n",
       "      <th></th>\n",
       "      <th></th>\n",
       "      <th></th>\n",
       "      <th></th>\n",
       "      <th></th>\n",
       "      <th></th>\n",
       "      <th></th>\n",
       "      <th></th>\n",
       "      <th></th>\n",
       "      <th></th>\n",
       "      <th></th>\n",
       "      <th></th>\n",
       "    </tr>\n",
       "  </thead>\n",
       "  <tbody>\n",
       "    <tr>\n",
       "      <th rowspan=\"5\" valign=\"top\">0</th>\n",
       "      <th>2011-08-26 16:54:31</th>\n",
       "      <td>2011-08-26 16:55:51</td>\n",
       "      <td>2011-08-26 16:55:53</td>\n",
       "      <td>1</td>\n",
       "      <td>0</td>\n",
       "      <td>2</td>\n",
       "      <td>10</td>\n",
       "      <td>17 122 171 206</td>\n",
       "      <td>5937</td>\n",
       "      <td>0</td>\n",
       "      <td>7</td>\n",
       "      <td>1</td>\n",
       "      <td>NaN</td>\n",
       "    </tr>\n",
       "    <tr>\n",
       "      <th>2011-08-26 16:56:12</th>\n",
       "      <td>2011-08-26 16:56:31</td>\n",
       "      <td>2011-08-26 16:56:33</td>\n",
       "      <td>1</td>\n",
       "      <td>0</td>\n",
       "      <td>2</td>\n",
       "      <td>10</td>\n",
       "      <td>0 100 171 206</td>\n",
       "      <td>294</td>\n",
       "      <td>0</td>\n",
       "      <td>7</td>\n",
       "      <td>1</td>\n",
       "      <td>NaN</td>\n",
       "    </tr>\n",
       "    <tr>\n",
       "      <th>2011-08-26 16:56:39</th>\n",
       "      <td>2011-08-26 16:56:54</td>\n",
       "      <td>2011-08-26 16:56:55</td>\n",
       "      <td>0</td>\n",
       "      <td>0</td>\n",
       "      <td>2</td>\n",
       "      <td>10</td>\n",
       "      <td>40 124 171 206</td>\n",
       "      <td>5625</td>\n",
       "      <td>0</td>\n",
       "      <td>7</td>\n",
       "      <td>1</td>\n",
       "      <td>NaN</td>\n",
       "    </tr>\n",
       "    <tr>\n",
       "      <th>2011-08-26 16:57:05</th>\n",
       "      <td>2011-08-26 16:57:24</td>\n",
       "      <td>2011-08-26 16:57:25</td>\n",
       "      <td>1</td>\n",
       "      <td>0</td>\n",
       "      <td>2</td>\n",
       "      <td>10</td>\n",
       "      <td>18 139 171 206</td>\n",
       "      <td>4322</td>\n",
       "      <td>0</td>\n",
       "      <td>7</td>\n",
       "      <td>1</td>\n",
       "      <td>NaN</td>\n",
       "    </tr>\n",
       "    <tr>\n",
       "      <th>2011-08-26 16:57:29</th>\n",
       "      <td>2011-08-26 16:57:51</td>\n",
       "      <td>2011-08-26 16:57:52</td>\n",
       "      <td>1</td>\n",
       "      <td>0</td>\n",
       "      <td>2</td>\n",
       "      <td>10</td>\n",
       "      <td>104 127 171 206</td>\n",
       "      <td>5024</td>\n",
       "      <td>0</td>\n",
       "      <td>7</td>\n",
       "      <td>1</td>\n",
       "      <td>NaN</td>\n",
       "    </tr>\n",
       "  </tbody>\n",
       "</table>\n",
       "</div>"
      ],
      "text/plain": [
       "                                     answered_at       deactivated_at  \\\n",
       "user_id round_started_at                                                \n",
       "0       2011-08-26 16:54:31  2011-08-26 16:55:51  2011-08-26 16:55:53   \n",
       "        2011-08-26 16:56:12  2011-08-26 16:56:31  2011-08-26 16:56:33   \n",
       "        2011-08-26 16:56:39  2011-08-26 16:56:54  2011-08-26 16:56:55   \n",
       "        2011-08-26 16:57:05  2011-08-26 16:57:24  2011-08-26 16:57:25   \n",
       "        2011-08-26 16:57:29  2011-08-26 16:57:51  2011-08-26 16:57:52   \n",
       "\n",
       "                             correct  group_name  track_name  subtrack_name  \\\n",
       "user_id round_started_at                                                      \n",
       "0       2011-08-26 16:54:31        1           0           2             10   \n",
       "        2011-08-26 16:56:12        1           0           2             10   \n",
       "        2011-08-26 16:56:39        0           0           2             10   \n",
       "        2011-08-26 16:57:05        1           0           2             10   \n",
       "        2011-08-26 16:57:29        1           0           2             10   \n",
       "\n",
       "                                  tag_string  question_id  question_type  \\\n",
       "user_id round_started_at                                                   \n",
       "0       2011-08-26 16:54:31   17 122 171 206         5937              0   \n",
       "        2011-08-26 16:56:12    0 100 171 206          294              0   \n",
       "        2011-08-26 16:56:39   40 124 171 206         5625              0   \n",
       "        2011-08-26 16:57:05   18 139 171 206         4322              0   \n",
       "        2011-08-26 16:57:29  104 127 171 206         5024              0   \n",
       "\n",
       "                             game_type  num_players date_of_test  \n",
       "user_id round_started_at                                          \n",
       "0       2011-08-26 16:54:31          7            1          NaN  \n",
       "        2011-08-26 16:56:12          7            1          NaN  \n",
       "        2011-08-26 16:56:39          7            1          NaN  \n",
       "        2011-08-26 16:57:05          7            1          NaN  \n",
       "        2011-08-26 16:57:29          7            1          NaN  "
      ]
     },
     "execution_count": 5,
     "metadata": {},
     "output_type": "execute_result"
    }
   ],
   "source": [
    "df_by_user_start = df_by_user_start[['answered_at', 'deactivated_at', 'correct', 'group_name', 'track_name', 'subtrack_name', 'tag_string', 'question_id', 'question_type', 'game_type', 'num_players', 'date_of_test']]\n",
    "df_by_user_start.head()"
   ]
  },
  {
   "cell_type": "code",
   "execution_count": 6,
   "metadata": {},
   "outputs": [
    {
     "data": {
      "text/plain": [
       "answered_at        556018\n",
       "deactivated_at         30\n",
       "correct                 0\n",
       "group_name              0\n",
       "track_name              0\n",
       "subtrack_name           0\n",
       "tag_string              0\n",
       "question_id             0\n",
       "question_type           0\n",
       "game_type               0\n",
       "num_players             0\n",
       "date_of_test      3824208\n",
       "dtype: int64"
      ]
     },
     "execution_count": 6,
     "metadata": {},
     "output_type": "execute_result"
    }
   ],
   "source": [
    "df_by_user_start.isnull().sum()"
   ]
  },
  {
   "cell_type": "markdown",
   "metadata": {},
   "source": [
    "<a id='user_id' href='#top'>back to menu</a>"
   ]
  },
  {
   "cell_type": "markdown",
   "metadata": {},
   "source": [
    "### user_id\n",
    "---\n",
    "\n",
    "1. How many users are there?   \n",
    "2. Distribution of questions per user?\n",
    "3. Distribution of correct/incorrect questions per user?\n",
    "4. Ratio - correct/(correct + incorrect) - per user? "
   ]
  },
  {
   "cell_type": "code",
   "execution_count": 7,
   "metadata": {},
   "outputs": [
    {
     "name": "stdout",
     "output_type": "stream",
     "text": [
      "Number of users: 179106\n"
     ]
    }
   ],
   "source": [
    "userid_count = len(df['user_id'].unique())\n",
    "print(('Number of users:'), (userid_count))"
   ]
  },
  {
   "cell_type": "code",
   "execution_count": 8,
   "metadata": {
    "collapsed": true
   },
   "outputs": [],
   "source": [
    "by_userid = df.groupby('user_id')\n",
    "\n",
    "question_count = by_userid['correct'].count()\n",
    "correct_answer_count = by_userid['correct'].sum()\n",
    "incorrect_answer_count = question_count.subtract(correct_answer_count)\n",
    "ratio = correct_answer_count/question_count"
   ]
  },
  {
   "cell_type": "code",
   "execution_count": 9,
   "metadata": {},
   "outputs": [
    {
     "data": {
      "image/png": "[encoded data removed]",
      "text/plain": [
       "<matplotlib.figure.Figure at 0x108ceba90>"
      ]
     },
     "metadata": {},
     "output_type": "display_data"
    }
   ],
   "source": [
    "df_question_count = pd.DataFrame({'User by ID':question_count.index, 'Number of Questions':question_count.values})\n",
    "# print(question_count)\n",
    "\n",
    "df_question_count.plot(kind='scatter', x='User by ID', y='Number of Questions')\n",
    "plt.title('Number of Questions Per User')\n",
    "# plt.ylim(0,2000)\n",
    "plt.show() "
   ]
  },
  {
   "cell_type": "code",
   "execution_count": 10,
   "metadata": {},
   "outputs": [
    {
     "data": {
      "text/html": [
       "<div>\n",
       "<style>\n",
       "    .dataframe thead tr:only-child th {\n",
       "        text-align: right;\n",
       "    }\n",
       "\n",
       "    .dataframe thead th {\n",
       "        text-align: left;\n",
       "    }\n",
       "\n",
       "    .dataframe tbody tr th {\n",
       "        vertical-align: top;\n",
       "    }\n",
       "</style>\n",
       "<table border=\"1\" class=\"dataframe\">\n",
       "  <thead>\n",
       "    <tr style=\"text-align: right;\">\n",
       "      <th></th>\n",
       "      <th>num_questions</th>\n",
       "      <th>num_correct</th>\n",
       "      <th>num_incorrect</th>\n",
       "      <th>correct_ratio</th>\n",
       "    </tr>\n",
       "    <tr>\n",
       "      <th>user_id</th>\n",
       "      <th></th>\n",
       "      <th></th>\n",
       "      <th></th>\n",
       "      <th></th>\n",
       "    </tr>\n",
       "  </thead>\n",
       "  <tbody>\n",
       "    <tr>\n",
       "      <th>0</th>\n",
       "      <td>7</td>\n",
       "      <td>5</td>\n",
       "      <td>2</td>\n",
       "      <td>0.714286</td>\n",
       "    </tr>\n",
       "    <tr>\n",
       "      <th>1</th>\n",
       "      <td>14</td>\n",
       "      <td>6</td>\n",
       "      <td>8</td>\n",
       "      <td>0.428571</td>\n",
       "    </tr>\n",
       "    <tr>\n",
       "      <th>2</th>\n",
       "      <td>8</td>\n",
       "      <td>2</td>\n",
       "      <td>6</td>\n",
       "      <td>0.250000</td>\n",
       "    </tr>\n",
       "    <tr>\n",
       "      <th>3</th>\n",
       "      <td>7</td>\n",
       "      <td>3</td>\n",
       "      <td>4</td>\n",
       "      <td>0.428571</td>\n",
       "    </tr>\n",
       "    <tr>\n",
       "      <th>4</th>\n",
       "      <td>11</td>\n",
       "      <td>7</td>\n",
       "      <td>4</td>\n",
       "      <td>0.636364</td>\n",
       "    </tr>\n",
       "  </tbody>\n",
       "</table>\n",
       "</div>"
      ],
      "text/plain": [
       "         num_questions  num_correct  num_incorrect  correct_ratio\n",
       "user_id                                                          \n",
       "0                    7            5              2       0.714286\n",
       "1                   14            6              8       0.428571\n",
       "2                    8            2              6       0.250000\n",
       "3                    7            3              4       0.428571\n",
       "4                   11            7              4       0.636364"
      ]
     },
     "execution_count": 10,
     "metadata": {},
     "output_type": "execute_result"
    }
   ],
   "source": [
    "user_score = {\n",
    "    'num_questions': question_count,\n",
    "    'num_correct': correct_answer_count,\n",
    "    'num_incorrect': incorrect_answer_count,\n",
    "    'correct_ratio': ratio\n",
    "}\n",
    "df_user_score = pd.DataFrame(user_score)\n",
    "df_user_score = df_user_score[['num_questions', 'num_correct', 'num_incorrect', 'correct_ratio']]\n",
    "df_user_score.head() "
   ]
  },
  {
   "cell_type": "code",
   "execution_count": 11,
   "metadata": {},
   "outputs": [
    {
     "data": {
      "image/png": "[encoded data removed]",
      "text/plain": [
       "<matplotlib.figure.Figure at 0x1153abf60>"
      ]
     },
     "metadata": {},
     "output_type": "display_data"
    }
   ],
   "source": [
    "sns.distplot(df_user_score.correct_ratio, axlabel='User Scores')\n",
    "plt.show()"
   ]
  },
  {
   "cell_type": "markdown",
   "metadata": {},
   "source": [
    "<a id='question_id' href='#top'>back to menu</a>"
   ]
  },
  {
   "cell_type": "markdown",
   "metadata": {},
   "source": [
    "### question_id\n",
    "---\n",
    "\n",
    "1. How many unique questions are there?\n",
    "2. How many of them are correct and incorrect?\n",
    "3. Distribution of users per question?"
   ]
  },
  {
   "cell_type": "code",
   "execution_count": 12,
   "metadata": {},
   "outputs": [
    {
     "name": "stdout",
     "output_type": "stream",
     "text": [
      "Question Observations: 4851475\n",
      "Unique Questions: 6045\n"
     ]
    }
   ],
   "source": [
    "print(('Question Observations:'), (len(df_by_user_start['question_id'])))\n",
    "print(('Unique Questions:'), (len( df_by_user_start.question_id.unique() )))"
   ]
  },
  {
   "cell_type": "code",
   "execution_count": 13,
   "metadata": {},
   "outputs": [
    {
     "data": {
      "image/png": "[encoded data removed]",
      "text/plain": [
       "<matplotlib.figure.Figure at 0x118713f28>"
      ]
     },
     "metadata": {},
     "output_type": "display_data"
    }
   ],
   "source": [
    "bins = (0,1,1,2)\n",
    "fig, ax = plt.subplots(1,1, figsize=(4,8))\n",
    "ax.hist(df_by_user_start.correct, bins=bins, align='left')\n",
    "ax.set_xticks(bins[:-1])\n",
    "plt.autoscale(enable=True, axis='both')\n",
    "\n",
    "plt.title('Correct vs. Incorrect Responses')\n",
    "plt.ylabel('Number of Questions')\n",
    "ax.set_xticklabels(['Incorrect', 'Correct'])\n",
    "plt.show() "
   ]
  },
  {
   "cell_type": "code",
   "execution_count": 14,
   "metadata": {},
   "outputs": [
    {
     "data": {
      "text/html": [
       "<div>\n",
       "<style>\n",
       "    .dataframe thead tr:only-child th {\n",
       "        text-align: right;\n",
       "    }\n",
       "\n",
       "    .dataframe thead th {\n",
       "        text-align: left;\n",
       "    }\n",
       "\n",
       "    .dataframe tbody tr th {\n",
       "        vertical-align: top;\n",
       "    }\n",
       "</style>\n",
       "<table border=\"1\" class=\"dataframe\">\n",
       "  <thead>\n",
       "    <tr style=\"text-align: right;\">\n",
       "      <th></th>\n",
       "      <th>num_users</th>\n",
       "    </tr>\n",
       "    <tr>\n",
       "      <th>question_id</th>\n",
       "      <th></th>\n",
       "    </tr>\n",
       "  </thead>\n",
       "  <tbody>\n",
       "    <tr>\n",
       "      <th>0</th>\n",
       "      <td>859</td>\n",
       "    </tr>\n",
       "    <tr>\n",
       "      <th>1</th>\n",
       "      <td>515</td>\n",
       "    </tr>\n",
       "    <tr>\n",
       "      <th>2</th>\n",
       "      <td>1318</td>\n",
       "    </tr>\n",
       "    <tr>\n",
       "      <th>3</th>\n",
       "      <td>813</td>\n",
       "    </tr>\n",
       "    <tr>\n",
       "      <th>4</th>\n",
       "      <td>407</td>\n",
       "    </tr>\n",
       "  </tbody>\n",
       "</table>\n",
       "</div>"
      ],
      "text/plain": [
       "             num_users\n",
       "question_id           \n",
       "0                  859\n",
       "1                  515\n",
       "2                 1318\n",
       "3                  813\n",
       "4                  407"
      ]
     },
     "execution_count": 14,
     "metadata": {},
     "output_type": "execute_result"
    }
   ],
   "source": [
    "by_questionid = df.groupby('question_id')\n",
    "\n",
    "user_count = by_questionid['question_id'].count()\n",
    "question_ids = {'num_users': user_count}\n",
    "\n",
    "df_question_id = pd.DataFrame(question_ids)\n",
    "df_question_id.head() "
   ]
  },
  {
   "cell_type": "code",
   "execution_count": 15,
   "metadata": {},
   "outputs": [
    {
     "data": {
      "image/png": "[encoded data removed]",
      "text/plain": [
       "<matplotlib.figure.Figure at 0x1140151d0>"
      ]
     },
     "metadata": {},
     "output_type": "display_data"
    }
   ],
   "source": [
    "df_question_ids = pd.DataFrame({'Question by ID':df_question_id.index, 'Number of Users':user_count.values})\n",
    "\n",
    "df_question_ids.plot(kind='scatter', x='Question by ID', y='Number of Users')\n",
    "plt.title('Number of Users Per Unique Question (question_id)')\n",
    "# plt.ylim(0,2000)\n",
    "plt.show() "
   ]
  },
  {
   "cell_type": "markdown",
   "metadata": {},
   "source": [
    "<a id='question_type' href='#top'>back to menu</a>"
   ]
  },
  {
   "cell_type": "markdown",
   "metadata": {},
   "source": [
    "### question_type\n",
    "---\n",
    "\n",
    "1. Frequency and distribution of these two categories?"
   ]
  },
  {
   "cell_type": "code",
   "execution_count": 16,
   "metadata": {},
   "outputs": [
    {
     "name": "stdout",
     "output_type": "stream",
     "text": [
      "0    4666507\n",
      "1     184968\n",
      "Name: question_type, dtype: int64\n"
     ]
    }
   ],
   "source": [
    "question_types = df_by_user_start['question_type']\n",
    "question_type_count = question_types.value_counts()\n",
    "print(question_type_count) "
   ]
  },
  {
   "cell_type": "code",
   "execution_count": 17,
   "metadata": {},
   "outputs": [
    {
     "data": {
      "image/png": "[encoded data removed]",
      "text/plain": [
       "<matplotlib.figure.Figure at 0x11590ea90>"
      ]
     },
     "metadata": {},
     "output_type": "display_data"
    }
   ],
   "source": [
    "bins = (0,1,1,2)\n",
    "fig, ax = plt.subplots(1,1, figsize=(4,8))\n",
    "ax.hist(df_by_user_start.question_type, bins=bins, align='left')\n",
    "ax.set_xticks(bins[:-1])\n",
    "plt.autoscale(enable=True, axis='both')\n",
    "\n",
    "plt.title('Question Types')\n",
    "ax.set_xticklabels(['Multiple Choice', 'Free Response'])\n",
    "plt.show() "
   ]
  },
  {
   "cell_type": "code",
   "execution_count": null,
   "metadata": {
    "collapsed": true
   },
   "outputs": [],
   "source": []
  },
  {
   "cell_type": "markdown",
   "metadata": {},
   "source": [
    "<a id='group_name' href='#top'>back to menu</a>"
   ]
  },
  {
   "cell_type": "markdown",
   "metadata": {},
   "source": [
    "### group_name\n",
    "---\n",
    "\n",
    "1. Frequency and distribution of these categories?"
   ]
  },
  {
   "cell_type": "code",
   "execution_count": null,
   "metadata": {
    "collapsed": true
   },
   "outputs": [],
   "source": []
  },
  {
   "cell_type": "code",
   "execution_count": null,
   "metadata": {
    "collapsed": true
   },
   "outputs": [],
   "source": []
  },
  {
   "cell_type": "code",
   "execution_count": null,
   "metadata": {
    "collapsed": true
   },
   "outputs": [],
   "source": []
  },
  {
   "cell_type": "markdown",
   "metadata": {},
   "source": [
    "<a id='track_name' href='#top'>back to menu</a>"
   ]
  },
  {
   "cell_type": "markdown",
   "metadata": {},
   "source": [
    "### track_name\n",
    "---\n",
    "\n",
    "1. Frequency and distribution of these categories?"
   ]
  },
  {
   "cell_type": "code",
   "execution_count": null,
   "metadata": {
    "collapsed": true
   },
   "outputs": [],
   "source": []
  },
  {
   "cell_type": "code",
   "execution_count": null,
   "metadata": {
    "collapsed": true
   },
   "outputs": [],
   "source": []
  },
  {
   "cell_type": "code",
   "execution_count": null,
   "metadata": {
    "collapsed": true
   },
   "outputs": [],
   "source": []
  },
  {
   "cell_type": "markdown",
   "metadata": {},
   "source": [
    "<a id='subtrack_name' href='#top'>back to menu</a>"
   ]
  },
  {
   "cell_type": "markdown",
   "metadata": {},
   "source": [
    "### subtrack_name\n",
    "---"
   ]
  },
  {
   "cell_type": "code",
   "execution_count": null,
   "metadata": {},
   "outputs": [],
   "source": [
    "\n"
   ]
  },
  {
   "cell_type": "code",
   "execution_count": null,
   "metadata": {
    "collapsed": true
   },
   "outputs": [],
   "source": []
  },
  {
   "cell_type": "code",
   "execution_count": null,
   "metadata": {
    "collapsed": true
   },
   "outputs": [],
   "source": []
  },
  {
   "cell_type": "markdown",
   "metadata": {},
   "source": [
    "<a id='tag_string' href='#top'>back to menu</a>"
   ]
  },
  {
   "cell_type": "markdown",
   "metadata": {},
   "source": [
    "### tag_string\n",
    "---"
   ]
  },
  {
   "cell_type": "code",
   "execution_count": null,
   "metadata": {
    "collapsed": true
   },
   "outputs": [],
   "source": []
  },
  {
   "cell_type": "code",
   "execution_count": null,
   "metadata": {
    "collapsed": true
   },
   "outputs": [],
   "source": []
  },
  {
   "cell_type": "code",
   "execution_count": null,
   "metadata": {
    "collapsed": true
   },
   "outputs": [],
   "source": []
  },
  {
   "cell_type": "markdown",
   "metadata": {},
   "source": [
    "<a id='round_started_at' href='#top'>back to menu</a>"
   ]
  },
  {
   "cell_type": "markdown",
   "metadata": {},
   "source": [
    "### round_started_at\n",
    "---\n",
    "\n",
    "[use this as reference date]"
   ]
  },
  {
   "cell_type": "code",
   "execution_count": null,
   "metadata": {
    "collapsed": true
   },
   "outputs": [],
   "source": []
  },
  {
   "cell_type": "code",
   "execution_count": null,
   "metadata": {
    "collapsed": true
   },
   "outputs": [],
   "source": []
  },
  {
   "cell_type": "code",
   "execution_count": null,
   "metadata": {
    "collapsed": true
   },
   "outputs": [],
   "source": []
  },
  {
   "cell_type": "markdown",
   "metadata": {},
   "source": [
    "<a id='answered_at' href='#top'>back to menu</a>"
   ]
  },
  {
   "cell_type": "markdown",
   "metadata": {},
   "source": [
    "### answered_at\n",
    "---\n",
    "\n",
    "[minutes from reference date]\n",
    "1. What is the number of NULLs and the % of the total?"
   ]
  },
  {
   "cell_type": "code",
   "execution_count": null,
   "metadata": {
    "collapsed": true
   },
   "outputs": [],
   "source": []
  },
  {
   "cell_type": "code",
   "execution_count": null,
   "metadata": {
    "collapsed": true
   },
   "outputs": [],
   "source": []
  },
  {
   "cell_type": "code",
   "execution_count": null,
   "metadata": {
    "collapsed": true
   },
   "outputs": [],
   "source": []
  },
  {
   "cell_type": "markdown",
   "metadata": {},
   "source": [
    "<a id='deactivated_at' href='#top'>back to menu</a>"
   ]
  },
  {
   "cell_type": "markdown",
   "metadata": {},
   "source": [
    "### deactivated_at\n",
    "---\n",
    "\n",
    "[minutes from reference date]\n",
    "1. Are there any NULLs?"
   ]
  },
  {
   "cell_type": "code",
   "execution_count": null,
   "metadata": {
    "collapsed": true
   },
   "outputs": [],
   "source": []
  },
  {
   "cell_type": "code",
   "execution_count": null,
   "metadata": {
    "collapsed": true
   },
   "outputs": [],
   "source": []
  },
  {
   "cell_type": "code",
   "execution_count": null,
   "metadata": {
    "collapsed": true
   },
   "outputs": [],
   "source": []
  },
  {
   "cell_type": "markdown",
   "metadata": {},
   "source": [
    "<a id='game_type' href='#top'>back to menu</a>"
   ]
  },
  {
   "cell_type": "markdown",
   "metadata": {},
   "source": [
    "### game_type\n",
    "---\n",
    "\n",
    "**`BookmarkGame: 0`** - values are like `ReviewGames`, but on specific questions the user has bookmarked.\n",
    "\n",
    "**`ChallengeGame: 1`** - values are solo games where the user is taking a series of questions intended to challenge them and give them the best opportunities for learning.\n",
    "\n",
    "**`CompetitiveGame: 2`** - values are the most different from other types of games. In these, once one user has answered correctly, the other users should be marked as 'skipped', and the game immediately proceeds to the next question. At the end of the game, whomever has answered the most questions correct wins.\n",
    "\n",
    "**`ComputerAdaptiveTestGame: 3`** - values are the user answering questions on a full-length CAT, designed to mimic the algorithms used in the actual test, to ask them questions designed to maximize the information gain on the user's ability. TRYING TO IMPROVE THIS.\n",
    "\n",
    "**`CustomGame: 4`** - values are normal games (like `PracticeGame`), but with some settings (such as specific areas or difficulty levels) chosen by the user.\n",
    "\n",
    "**`DiagnosticGame: 5`** - values are solo games which are intended to give an initial rough assessment of the user's ability level.\n",
    "\n",
    "**`NULL: 6`** - values represent a data collection failure.\n",
    "\n",
    "**`PracticeGame: 7`** - is the main type of game: in these, everyone in the game is seeing the same question at the same time; once everyone has answered, the answer is displayed; once everyone is ready to continue, the round advances to a new question.  Note that these can be solo games as well.\n",
    "\n",
    "**`RecitationGame: 8`** - represents a game led by a tutor through a series of questions, with the tutor controlling the pace of advancement.\n",
    "\n",
    "**`ReviewGame: 9`** - is a solo game (essentially a solo `PracticeGame`) started by a user to review questions they have played in the past.\n",
    "\n",
    "**`StudyHallGame: 10`** - is the newest type of game: in these, users are answering their own series of questions as though the were in a solo practice game, but there is a single \"study hall\" chat where people can ask for help on questions.\n",
    "\n",
    "**`StudyTaskGame: 11`** - is a game where the user is answering questions in a common skill area, in order to achieve a task in their personalized study plan."
   ]
  },
  {
   "cell_type": "code",
   "execution_count": 18,
   "metadata": {},
   "outputs": [
    {
     "name": "stdout",
     "output_type": "stream",
     "text": [
      "Counter({7: 3085722, 4: 831263, 5: 406752, 11: 275028, 3: 91745, 1: 72438, 2: 57916, 9: 21451, 0: 3994, 10: 2698, 8: 2081, 6: 387})\n"
     ]
    }
   ],
   "source": [
    "print(Counter(df_by_user_start.game_type))"
   ]
  },
  {
   "cell_type": "code",
   "execution_count": 19,
   "metadata": {},
   "outputs": [
    {
     "data": {
      "image/png": "[encoded data removed]",
      "text/plain": [
       "<matplotlib.figure.Figure at 0x108ceb438>"
      ]
     },
     "metadata": {},
     "output_type": "display_data"
    }
   ],
   "source": [
    "plt.hist(df_by_user_start.game_type)\n",
    "plt.show()"
   ]
  },
  {
   "cell_type": "code",
   "execution_count": null,
   "metadata": {
    "collapsed": true
   },
   "outputs": [],
   "source": [
    "game_types = ['BookmarkGame', 'ChallengeGame', 'CompetitiveGame', 'ComputerAdaptiveTestGame', 'CustomGame', 'DiagnosticGame', 'NULL', 'PracticeGame', 'RecitationGame', 'ReviewGame', 'StudyHallGame', 'StudyTaskGame']"
   ]
  },
  {
   "cell_type": "markdown",
   "metadata": {},
   "source": [
    "<a id='num_players' href='#top'>back to menu</a>"
   ]
  },
  {
   "cell_type": "markdown",
   "metadata": {},
   "source": [
    "### num_players\n",
    "---\n",
    "\n",
    "1. Distribution of number of players per question?"
   ]
  },
  {
   "cell_type": "code",
   "execution_count": null,
   "metadata": {
    "collapsed": true
   },
   "outputs": [],
   "source": []
  },
  {
   "cell_type": "code",
   "execution_count": null,
   "metadata": {
    "collapsed": true
   },
   "outputs": [],
   "source": []
  },
  {
   "cell_type": "code",
   "execution_count": null,
   "metadata": {
    "collapsed": true
   },
   "outputs": [],
   "source": []
  },
  {
   "cell_type": "markdown",
   "metadata": {},
   "source": [
    "<a id='date_of_test' href='#top'>back to menu</a>"
   ]
  },
  {
   "cell_type": "markdown",
   "metadata": {},
   "source": [
    "### date_of_test\n",
    "---\n",
    "\n",
    "1. How many NULLs and % of the total?"
   ]
  },
  {
   "cell_type": "code",
   "execution_count": null,
   "metadata": {
    "collapsed": true
   },
   "outputs": [],
   "source": []
  },
  {
   "cell_type": "code",
   "execution_count": null,
   "metadata": {
    "collapsed": true
   },
   "outputs": [],
   "source": []
  },
  {
   "cell_type": "code",
   "execution_count": null,
   "metadata": {
    "collapsed": true
   },
   "outputs": [],
   "source": []
  }
 ],
 "metadata": {
  "kernelspec": {
   "display_name": "Python 3",
   "language": "python",
   "name": "python3"
  },
  "language_info": {
   "codemirror_mode": {
    "name": "ipython",
    "version": 3
   },
   "file_extension": ".py",
   "mimetype": "text/x-python",
   "name": "python",
   "nbconvert_exporter": "python",
   "pygments_lexer": "ipython3",
   "version": "3.6.1"
  }
 },
 "nbformat": 4,
 "nbformat_minor": 2
}
