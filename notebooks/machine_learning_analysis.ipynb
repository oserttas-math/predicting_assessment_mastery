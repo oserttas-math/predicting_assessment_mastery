{
 "cells": [
  {
   "cell_type": "markdown",
   "metadata": {},
   "source": [
    "<a id='top'></a>"
   ]
  },
  {
   "cell_type": "markdown",
   "metadata": {},
   "source": [
    "<a href='#import'>Import &amp; Inspect</a> | <a href='#logreg'>Logistic Regression</a> | <a href='#rf'>Random Forest</a> | <a href='#xgb'>XGBoost</a> | <a href='#lme'>Linear Mixed Effects</a> | <a href='#merf'>Mixed Effects Random Forest</a> | <a href='#best'>Best Model/Dedicated Users</a> | <a href='#summary'>Summary &amp; Conclusions</a>\n",
    "    \n",
    "<br>\n",
    "\n",
    "---"
   ]
  },
  {
   "cell_type": "markdown",
   "metadata": {},
   "source": [
    "\n",
    "# Predicting Mastery in Academic Assessments - Machine Learning Analysis\n",
    "Students taking advantage of practice exercises through software applications seek an evaluation of their preparedness for formal academic assessments. The goal of this project is to help test developers understand user progress by predicting whether a student answers the next test question correctly.\n",
    "\n",
    "# Data Wrangling\n",
    "The [Initial Data Exploration](http://nbviewer.jupyter.org/github/humburgc/academic_mastery_study/blob/master/notebooks/initial_data_exploration.ipynb?flush_cache=true) notebook contains the following work:\n",
    "\n",
    "Download the `grockit_all_data.zip` file from the [Grockit competition on Kaggle](https://www.kaggle.com/c/WhatDoYouKnow/data). Import and inspect raw training data. Isolate relevant variables, fill or calculate new variables, and organize the dataframe. Resolve missing, invalid, corrupted or duplicate values.\n",
    "\n",
    "From that notebook, the clean dataframe was saved in the file `clean_training.csv`, which is used for EDA.\n",
    "\n",
    "---\n",
    "# Exploratory Data Analysis\n",
    "The [Exploratory Data Analysis]() notebook contains the following work:\n",
    "\n",
    "Create data visualizations to explain variables. Detect and possibly remove or mark outliers. Explore variable dependence and correlations. Consider a hypothesis to explore. Leverage statistical inference to test the hypothesis. More generally, begin to develop a preliminary likeness of the solution\n",
    "\n",
    "As it was determined that test groups are independent, and the GMAT group provides the most data, it is used here to predict user outcome and hopefully provide more insight for test developers. \n",
    "\n",
    "\n",
    "---\n",
    "# Machine Learning Analysis\n",
    "The `clean_gmat.csv` file saved at the end of EDA is used here to train the models.\n",
    "\n",
    "Build, fit, and validate a method to model the data. Evaluate the performance of each model tested, including Logistic Regression, Random Forest, Linear Mixed Effects, Mixed Effects Random Forest, XGBoost."
   ]
  },
  {
   "cell_type": "markdown",
   "metadata": {},
   "source": [
    "<a href='#top' id='import'>back to menu</a>"
   ]
  },
  {
   "cell_type": "markdown",
   "metadata": {},
   "source": [
    "## Import & Inspect"
   ]
  },
  {
   "cell_type": "code",
   "execution_count": 1,
   "metadata": {},
   "outputs": [
    {
     "name": "stdout",
     "output_type": "stream",
     "text": [
      "22:03:32\n"
     ]
    }
   ],
   "source": [
    "import warnings\n",
    "warnings.filterwarnings('ignore')\n",
    "\n",
    "import numpy as np\n",
    "import pandas as pd\n",
    "import matplotlib.pyplot as plt\n",
    "import seaborn as sns\n",
    "from datetime import datetime\n",
    "import sklearn.model_selection\n",
    "import statsmodels.api as sm\n",
    "import statsmodels.formula.api as smf\n",
    "from time import time\n",
    "from time import localtime, strftime\n",
    "\n",
    "print(strftime('%H:%M:%S', localtime()))\n",
    "\n",
    "import matplotlib.cm as cm\n",
    "from matplotlib.colors import ListedColormap\n",
    "\n",
    "from sklearn.model_selection import train_test_split, GridSearchCV, cross_val_score, learning_curve\n",
    "from sklearn.linear_model import LogisticRegression\n",
    "from sklearn.metrics import accuracy_score, classification_report\n",
    "\n",
    "import xgboost as xgb\n",
    "\n",
    "%matplotlib inline\n",
    "sns.set_style('whitegrid')\n",
    "sns.set_context('poster')\n",
    "\n",
    "# Set options to inspect ALL of the columns:\n",
    "pd.options.display.max_columns = 375"
   ]
  },
  {
   "cell_type": "code",
   "execution_count": 2,
   "metadata": {},
   "outputs": [],
   "source": [
    "def snap_probabilities(p):\n",
    "    if p >= 0.5:\n",
    "        return 1\n",
    "    else:\n",
    "        return 0\n",
    "\n",
    "def cbd(y, predicted):\n",
    "    \"\"\"Return the capped binomial deviance for true and predicted values.\"\"\"\n",
    "    predicted[predicted < 0.01] = 0.01\n",
    "    predicted[predicted > 0.99] = 0.99\n",
    "    return np.mean(-(y*np.log10(predicted)+(1-y)*np.log10(1-predicted)))\n",
    "    "
   ]
  },
  {
   "cell_type": "code",
   "execution_count": 3,
   "metadata": {},
   "outputs": [],
   "source": [
    "def model_summary(y_test, predictions, probabilities, model_name='model_name'):\n",
    "    \n",
    "    accuracy = np.mean(predictions == np.array(y_test))\n",
    "    CBD = cbd(y_test, probabilities)\n",
    "\n",
    "    model_name = pd.DataFrame({'model_name': model_name, 'Accuracy': round(accuracy, 4), 'CBD': round(CBD, 4)}, index=[0])\n",
    "    model_name = model_name[['model_name', 'Accuracy', 'CBD']]\n",
    "    \n",
    "    return model_name"
   ]
  },
  {
   "cell_type": "markdown",
   "metadata": {},
   "source": [
    "---\n",
    "## GMAT DATASET"
   ]
  },
  {
   "cell_type": "code",
   "execution_count": 4,
   "metadata": {},
   "outputs": [
    {
     "name": "stdout",
     "output_type": "stream",
     "text": [
      "<class 'pandas.core.frame.DataFrame'>\n",
      "RangeIndex: 2371385 entries, 0 to 2371384\n",
      "Data columns (total 11 columns):\n",
      "user_id           int64\n",
      "question_id       int64\n",
      "track_name        int64\n",
      "subtrack_name     int64\n",
      "game_type         int64\n",
      "num_players       int64\n",
      "round_duration    int64\n",
      "prior_attempts    int64\n",
      "num_questions     int64\n",
      "total_practice    int64\n",
      "correct           int64\n",
      "dtypes: int64(11)\n",
      "memory usage: 199.0 MB\n"
     ]
    }
   ],
   "source": [
    "# Read and save CSV file a as dataframe:\n",
    "gmat = pd.read_csv('../data/interim/clean_gmat.csv').drop('Unnamed: 0', axis='columns')\n",
    "\n",
    "# Convert round_duration and total_practice to timedelta:\n",
    "gmat['round_duration'] = pd.to_timedelta(gmat.round_duration, unit='s').astype(int)\n",
    "gmat['total_practice'] = pd.to_timedelta(gmat.total_practice, unit='s').astype(int)\n",
    "\n",
    "gmat = gmat[['user_id', 'question_id', 'track_name', 'subtrack_name', 'game_type', 'num_players', 'round_duration', 'prior_attempts', 'num_questions', 'total_practice', 'correct']]\n",
    "gmat.info()"
   ]
  },
  {
   "cell_type": "code",
   "execution_count": 5,
   "metadata": {},
   "outputs": [
    {
     "data": {
      "text/html": [
       "<div>\n",
       "<style scoped>\n",
       "    .dataframe tbody tr th:only-of-type {\n",
       "        vertical-align: middle;\n",
       "    }\n",
       "\n",
       "    .dataframe tbody tr th {\n",
       "        vertical-align: top;\n",
       "    }\n",
       "\n",
       "    .dataframe thead th {\n",
       "        text-align: right;\n",
       "    }\n",
       "</style>\n",
       "<table border=\"1\" class=\"dataframe\">\n",
       "  <thead>\n",
       "    <tr style=\"text-align: right;\">\n",
       "      <th></th>\n",
       "      <th>user_id</th>\n",
       "      <th>question_id</th>\n",
       "      <th>track_name</th>\n",
       "      <th>subtrack_name</th>\n",
       "      <th>game_type</th>\n",
       "      <th>num_players</th>\n",
       "      <th>round_duration</th>\n",
       "      <th>prior_attempts</th>\n",
       "      <th>num_questions</th>\n",
       "      <th>total_practice</th>\n",
       "      <th>correct</th>\n",
       "    </tr>\n",
       "  </thead>\n",
       "  <tbody>\n",
       "    <tr>\n",
       "      <th>0</th>\n",
       "      <td>85818</td>\n",
       "      <td>5560</td>\n",
       "      <td>5</td>\n",
       "      <td>14</td>\n",
       "      <td>7</td>\n",
       "      <td>1</td>\n",
       "      <td>65000000000</td>\n",
       "      <td>0</td>\n",
       "      <td>315</td>\n",
       "      <td>27762000000000</td>\n",
       "      <td>0</td>\n",
       "    </tr>\n",
       "    <tr>\n",
       "      <th>1</th>\n",
       "      <td>85818</td>\n",
       "      <td>4681</td>\n",
       "      <td>5</td>\n",
       "      <td>0</td>\n",
       "      <td>7</td>\n",
       "      <td>1</td>\n",
       "      <td>82000000000</td>\n",
       "      <td>0</td>\n",
       "      <td>315</td>\n",
       "      <td>27762000000000</td>\n",
       "      <td>1</td>\n",
       "    </tr>\n",
       "    <tr>\n",
       "      <th>2</th>\n",
       "      <td>85818</td>\n",
       "      <td>1529</td>\n",
       "      <td>5</td>\n",
       "      <td>0</td>\n",
       "      <td>7</td>\n",
       "      <td>1</td>\n",
       "      <td>74000000000</td>\n",
       "      <td>0</td>\n",
       "      <td>315</td>\n",
       "      <td>27762000000000</td>\n",
       "      <td>1</td>\n",
       "    </tr>\n",
       "    <tr>\n",
       "      <th>3</th>\n",
       "      <td>85818</td>\n",
       "      <td>2908</td>\n",
       "      <td>5</td>\n",
       "      <td>0</td>\n",
       "      <td>7</td>\n",
       "      <td>1</td>\n",
       "      <td>62000000000</td>\n",
       "      <td>0</td>\n",
       "      <td>315</td>\n",
       "      <td>27762000000000</td>\n",
       "      <td>1</td>\n",
       "    </tr>\n",
       "    <tr>\n",
       "      <th>4</th>\n",
       "      <td>85818</td>\n",
       "      <td>1773</td>\n",
       "      <td>5</td>\n",
       "      <td>11</td>\n",
       "      <td>7</td>\n",
       "      <td>1</td>\n",
       "      <td>177000000000</td>\n",
       "      <td>0</td>\n",
       "      <td>315</td>\n",
       "      <td>27762000000000</td>\n",
       "      <td>1</td>\n",
       "    </tr>\n",
       "  </tbody>\n",
       "</table>\n",
       "</div>"
      ],
      "text/plain": [
       "   user_id  question_id  track_name  subtrack_name  game_type  num_players  \\\n",
       "0    85818         5560           5             14          7            1   \n",
       "1    85818         4681           5              0          7            1   \n",
       "2    85818         1529           5              0          7            1   \n",
       "3    85818         2908           5              0          7            1   \n",
       "4    85818         1773           5             11          7            1   \n",
       "\n",
       "   round_duration  prior_attempts  num_questions  total_practice  correct  \n",
       "0     65000000000               0            315  27762000000000        0  \n",
       "1     82000000000               0            315  27762000000000        1  \n",
       "2     74000000000               0            315  27762000000000        1  \n",
       "3     62000000000               0            315  27762000000000        1  \n",
       "4    177000000000               0            315  27762000000000        1  "
      ]
     },
     "execution_count": 5,
     "metadata": {},
     "output_type": "execute_result"
    }
   ],
   "source": [
    "gmat.head()"
   ]
  },
  {
   "cell_type": "markdown",
   "metadata": {},
   "source": [
    "### Determine Best Training Sample Size"
   ]
  },
  {
   "cell_type": "code",
   "execution_count": 6,
   "metadata": {},
   "outputs": [
    {
     "data": {
      "text/plain": [
       "1000000"
      ]
     },
     "execution_count": 6,
     "metadata": {},
     "output_type": "execute_result"
    }
   ],
   "source": [
    "gmat_sample = gmat.sample(1000000, weights=gmat.user_id, axis=0, random_state=0)\n",
    "len(gmat_sample)"
   ]
  },
  {
   "cell_type": "code",
   "execution_count": 7,
   "metadata": {},
   "outputs": [
    {
     "data": {
      "image/png": "[encoded data removed]",
      "text/plain": [
       "<matplotlib.figure.Figure at 0x1c55a33978>"
      ]
     },
     "metadata": {},
     "output_type": "display_data"
    }
   ],
   "source": [
    "warnings.filterwarnings('ignore')\n",
    "\n",
    "X_train = gmat_sample.drop('correct', axis=1)\n",
    "y_train = (gmat_sample.correct).values\n",
    "\n",
    "train_sizes, train_scores, cv_scores = learning_curve(\n",
    "    xgb.XGBClassifier(objective='binary:logistic'), \n",
    "    X_train, y_train, \n",
    "    n_jobs=-1, train_sizes=np.linspace(0.1, 1.0, 5))\n",
    "train_scores_mean = np.mean(train_scores, axis=1)\n",
    "train_scores_std = np.std(train_scores, axis=1)\n",
    "cv_scores_mean = np.mean(cv_scores, axis=1)\n",
    "cv_scores_std = np.std(cv_scores, axis=1)\n",
    "    \n",
    "fig = plt.figure(figsize=(12,8))\n",
    "plt.fill_between(train_sizes, train_scores_mean - train_scores_std, train_scores_mean + train_scores_std, alpha=0.1)\n",
    "plt.fill_between(train_sizes, cv_scores_mean - cv_scores_std, cv_scores_mean + cv_scores_std, alpha=0.1)\n",
    "plt.plot(train_sizes, train_scores_mean, 'o-', label='Training Score')\n",
    "plt.plot(train_sizes, cv_scores_mean, 'o-', label='CV Score')\n",
    "\n",
    "plt.xlabel('Training Set Sample Size')\n",
    "plt.ylabel('Score')\n",
    "plt.legend(loc='best');"
   ]
  },
  {
   "cell_type": "code",
   "execution_count": 8,
   "metadata": {},
   "outputs": [
    {
     "data": {
      "text/plain": [
       "250000"
      ]
     },
     "execution_count": 8,
     "metadata": {},
     "output_type": "execute_result"
    }
   ],
   "source": [
    "gmat_sample = gmat.sample(250000, weights=gmat.user_id, axis=0, random_state=0)\n",
    "len(gmat_sample)"
   ]
  },
  {
   "cell_type": "code",
   "execution_count": 9,
   "metadata": {},
   "outputs": [],
   "source": [
    "X = gmat_sample.drop('correct', axis=1)\n",
    "y = gmat_sample.correct\n",
    "\n",
    "X_train, X_test, y_train, y_test = train_test_split(X, y, train_size=0.8, random_state=0)"
   ]
  },
  {
   "cell_type": "markdown",
   "metadata": {},
   "source": [
    "<a href='#top' id='logreg'>back to menu</a>"
   ]
  },
  {
   "cell_type": "markdown",
   "metadata": {},
   "source": [
    "## Logistic Regression"
   ]
  },
  {
   "cell_type": "code",
   "execution_count": 10,
   "metadata": {},
   "outputs": [
    {
     "name": "stdout",
     "output_type": "stream",
     "text": [
      "Started at: 22:12:14\n",
      "fit-time: 4.1 minutes\n",
      "\n"
     ]
    },
    {
     "data": {
      "text/html": [
       "<div>\n",
       "<style scoped>\n",
       "    .dataframe tbody tr th:only-of-type {\n",
       "        vertical-align: middle;\n",
       "    }\n",
       "\n",
       "    .dataframe tbody tr th {\n",
       "        vertical-align: top;\n",
       "    }\n",
       "\n",
       "    .dataframe thead th {\n",
       "        text-align: right;\n",
       "    }\n",
       "</style>\n",
       "<table border=\"1\" class=\"dataframe\">\n",
       "  <thead>\n",
       "    <tr style=\"text-align: right;\">\n",
       "      <th></th>\n",
       "      <th>Accuracy</th>\n",
       "      <th>CBD</th>\n",
       "    </tr>\n",
       "  </thead>\n",
       "  <tbody>\n",
       "    <tr>\n",
       "      <th>0</th>\n",
       "      <td>0.6164</td>\n",
       "      <td>0.2889</td>\n",
       "    </tr>\n",
       "  </tbody>\n",
       "</table>\n",
       "</div>"
      ],
      "text/plain": [
       "   Accuracy     CBD\n",
       "0    0.6164  0.2889"
      ]
     },
     "execution_count": 10,
     "metadata": {},
     "output_type": "execute_result"
    }
   ],
   "source": [
    "from sklearn.pipeline import Pipeline\n",
    "from sklearn.preprocessing import StandardScaler\n",
    "\n",
    "# Create the pipeline:\n",
    "pipe = Pipeline([('scaler', StandardScaler()), ('logistic', LogisticRegression())])\n",
    "\n",
    "# Create grid of hyperparameters:\n",
    "grid = {'logistic__C': [0.001, 0.01, 0.1, 1, 10, 100, 1000],\n",
    "       'logistic__penalty': ['l1', 'l2']}\n",
    "\n",
    "# Instantiate GridSearchCV with pipeline and hyperparameters:\n",
    "clf = GridSearchCV(pipe, grid, cv=10)\n",
    "\n",
    "start = time()\n",
    "print('Started at:', strftime('%H:%M:%S', localtime()))\n",
    "\n",
    "clf.fit(X_train, y_train)\n",
    "\n",
    "end = time()\n",
    "print('fit-time: {:0.1f} minutes'.format((end-start)/60))\n",
    "print()\n",
    "\n",
    "\n",
    "logistic = clf.best_estimator_.named_steps['logistic']\n",
    "\n",
    "\n",
    "predictions = clf.predict(X_test)\n",
    "probabilities = clf.predict_proba(X_test)[:, 1]\n",
    "\n",
    "logistic_regression = model_summary(y_test, predictions, probabilities, model_name='logistic_regression')\n",
    "logistic_regression[['Accuracy', 'CBD']]"
   ]
  },
  {
   "cell_type": "markdown",
   "metadata": {},
   "source": [
    "This is not the appropriate algorithm for this task. Logistic Regression assumes that observations are independent, which is not true for this project. \n",
    "\n",
    "But it's fast!"
   ]
  },
  {
   "cell_type": "markdown",
   "metadata": {},
   "source": [
    "<a href='#top' id='rf'>back to menu</a>"
   ]
  },
  {
   "cell_type": "markdown",
   "metadata": {},
   "source": [
    "## Random Forest\n",
    "This creates an ensemble of decision trees which are averaged to improve prediction accuracy, and it scores how important each feature was for classification."
   ]
  },
  {
   "cell_type": "code",
   "execution_count": 12,
   "metadata": {},
   "outputs": [
    {
     "name": "stdout",
     "output_type": "stream",
     "text": [
      "Started at: 22:16:18\n",
      "fit-time: 61.2 minutes\n",
      "\n"
     ]
    },
    {
     "data": {
      "text/html": [
       "<div>\n",
       "<style scoped>\n",
       "    .dataframe tbody tr th:only-of-type {\n",
       "        vertical-align: middle;\n",
       "    }\n",
       "\n",
       "    .dataframe tbody tr th {\n",
       "        vertical-align: top;\n",
       "    }\n",
       "\n",
       "    .dataframe thead th {\n",
       "        text-align: right;\n",
       "    }\n",
       "</style>\n",
       "<table border=\"1\" class=\"dataframe\">\n",
       "  <thead>\n",
       "    <tr style=\"text-align: right;\">\n",
       "      <th></th>\n",
       "      <th>Accuracy</th>\n",
       "      <th>CBD</th>\n",
       "    </tr>\n",
       "  </thead>\n",
       "  <tbody>\n",
       "    <tr>\n",
       "      <th>0</th>\n",
       "      <td>0.6687</td>\n",
       "      <td>0.2554</td>\n",
       "    </tr>\n",
       "  </tbody>\n",
       "</table>\n",
       "</div>"
      ],
      "text/plain": [
       "   Accuracy     CBD\n",
       "0    0.6687  0.2554"
      ]
     },
     "execution_count": 12,
     "metadata": {},
     "output_type": "execute_result"
    }
   ],
   "source": [
    "from sklearn.ensemble import RandomForestClassifier\n",
    "\n",
    "clf = RandomForestClassifier(n_jobs=-1)\n",
    "param_grid = {\n",
    "    'n_estimators': [8, 16, 24, 32],\n",
    "    'min_samples_leaf': [1, 6, 12, 24, 30],\n",
    "    'criterion': ['gini', 'entropy']\n",
    "}\n",
    "grid_search = GridSearchCV(clf, param_grid=param_grid, cv=10)\n",
    "\n",
    "start = time()\n",
    "print('Started at:', strftime('%H:%M:%S', localtime()))\n",
    "\n",
    "grid_search.fit(X_train, y_train)\n",
    "\n",
    "end = time()\n",
    "print('fit-time: {:0.1f} minutes'.format((end-start)/60))\n",
    "print()\n",
    "\n",
    "clf = RandomForestClassifier(**grid_search.best_params_, n_jobs=-1)\n",
    "clf.fit(X_train, y_train)\n",
    "\n",
    "predictions = clf.predict(X_test)\n",
    "probabilities = clf.predict_proba(X_test)[:, 1]\n",
    "\n",
    "random_forest = model_summary(y_test, predictions, probabilities, model_name='random_forest')\n",
    "random_forest[['Accuracy', 'CBD']]"
   ]
  },
  {
   "cell_type": "code",
   "execution_count": 13,
   "metadata": {
    "scrolled": true
   },
   "outputs": [
    {
     "data": {
      "text/html": [
       "<div>\n",
       "<style scoped>\n",
       "    .dataframe tbody tr th:only-of-type {\n",
       "        vertical-align: middle;\n",
       "    }\n",
       "\n",
       "    .dataframe tbody tr th {\n",
       "        vertical-align: top;\n",
       "    }\n",
       "\n",
       "    .dataframe thead th {\n",
       "        text-align: right;\n",
       "    }\n",
       "</style>\n",
       "<table border=\"1\" class=\"dataframe\">\n",
       "  <thead>\n",
       "    <tr style=\"text-align: right;\">\n",
       "      <th></th>\n",
       "      <th>Importance</th>\n",
       "    </tr>\n",
       "  </thead>\n",
       "  <tbody>\n",
       "    <tr>\n",
       "      <th>round_duration</th>\n",
       "      <td>0.441546</td>\n",
       "    </tr>\n",
       "    <tr>\n",
       "      <th>total_practice</th>\n",
       "      <td>0.129700</td>\n",
       "    </tr>\n",
       "    <tr>\n",
       "      <th>num_questions</th>\n",
       "      <td>0.128291</td>\n",
       "    </tr>\n",
       "    <tr>\n",
       "      <th>question_id</th>\n",
       "      <td>0.098653</td>\n",
       "    </tr>\n",
       "    <tr>\n",
       "      <th>user_id</th>\n",
       "      <td>0.075829</td>\n",
       "    </tr>\n",
       "    <tr>\n",
       "      <th>subtrack_name</th>\n",
       "      <td>0.048266</td>\n",
       "    </tr>\n",
       "    <tr>\n",
       "      <th>game_type</th>\n",
       "      <td>0.035989</td>\n",
       "    </tr>\n",
       "    <tr>\n",
       "      <th>num_players</th>\n",
       "      <td>0.016510</td>\n",
       "    </tr>\n",
       "    <tr>\n",
       "      <th>track_name</th>\n",
       "      <td>0.012826</td>\n",
       "    </tr>\n",
       "    <tr>\n",
       "      <th>prior_attempts</th>\n",
       "      <td>0.012391</td>\n",
       "    </tr>\n",
       "  </tbody>\n",
       "</table>\n",
       "</div>"
      ],
      "text/plain": [
       "                Importance\n",
       "round_duration    0.441546\n",
       "total_practice    0.129700\n",
       "num_questions     0.128291\n",
       "question_id       0.098653\n",
       "user_id           0.075829\n",
       "subtrack_name     0.048266\n",
       "game_type         0.035989\n",
       "num_players       0.016510\n",
       "track_name        0.012826\n",
       "prior_attempts    0.012391"
      ]
     },
     "execution_count": 13,
     "metadata": {},
     "output_type": "execute_result"
    }
   ],
   "source": [
    "all_models = pd.concat([logistic_regression, random_forest])\n",
    "\n",
    "feature_importances = dict(list(zip(X_train, clf.feature_importances_)))\n",
    "pd.DataFrame.from_dict(feature_importances, orient='index', columns=['Importance']).sort_values(by=['Importance'], ascending=False)"
   ]
  },
  {
   "cell_type": "markdown",
   "metadata": {},
   "source": [
    "<a href='#top' id='xgb'>back to menu</a>"
   ]
  },
  {
   "cell_type": "markdown",
   "metadata": {},
   "source": [
    "---\n",
    "## XGBoost\n",
    "This implements gradient boosted decision trees, and scales very well to many samples. It works by iteratively learning a set of weak models on subsets of the data, weighing each weak prediction according to each weak model's performance, and combining the weighted predictions to obtain a single weighted prediction."
   ]
  },
  {
   "cell_type": "code",
   "execution_count": 14,
   "metadata": {
    "scrolled": true
   },
   "outputs": [
    {
     "name": "stdout",
     "output_type": "stream",
     "text": [
      "Started at: 23:17:47\n",
      "Fitting 4 folds for each of 108 candidates, totalling 432 fits\n"
     ]
    },
    {
     "name": "stderr",
     "output_type": "stream",
     "text": [
      "[Parallel(n_jobs=1)]: Done 432 out of 432 | elapsed: 241.9min finished\n"
     ]
    },
    {
     "name": "stdout",
     "output_type": "stream",
     "text": [
      "fit-time: 242.3 minutes\n",
      "\n",
      "Best Parameters:  {'colsample_bytree': 0.25, 'gamma': 1, 'max_depth': 20, 'min_child_weight': 5}\n"
     ]
    }
   ],
   "source": [
    "warnings.filterwarnings('ignore')\n",
    "import xgboost as xgb\n",
    "\n",
    "param_grid = {\n",
    "    'max_depth': [5, 10, 20],\n",
    "    'min_child_weight': [1, 5, 10],\n",
    "    'colsample_bytree': [0.25, 0.5, 0.75, 1],\n",
    "    'gamma': [1, 5, 10]\n",
    "}\n",
    "\n",
    "# Instantiate classifier:\n",
    "clf = xgb.XGBClassifier(objective='binary:logistic')\n",
    "\n",
    "# Search and Fit:\n",
    "search = GridSearchCV(estimator=clf, param_grid=param_grid, scoring='accuracy', cv=4, verbose=1)\n",
    "\n",
    "start = time()\n",
    "print('Started at:', strftime('%H:%M:%S', localtime()))\n",
    "\n",
    "search.fit(X_train, y_train)\n",
    "\n",
    "end = time()\n",
    "\n",
    "print(\"Best Parameters: \", search.best_params_)"
   ]
  },
  {
   "cell_type": "code",
   "execution_count": 15,
   "metadata": {},
   "outputs": [
    {
     "data": {
      "text/html": [
       "<div>\n",
       "<style scoped>\n",
       "    .dataframe tbody tr th:only-of-type {\n",
       "        vertical-align: middle;\n",
       "    }\n",
       "\n",
       "    .dataframe tbody tr th {\n",
       "        vertical-align: top;\n",
       "    }\n",
       "\n",
       "    .dataframe thead th {\n",
       "        text-align: right;\n",
       "    }\n",
       "</style>\n",
       "<table border=\"1\" class=\"dataframe\">\n",
       "  <thead>\n",
       "    <tr style=\"text-align: right;\">\n",
       "      <th></th>\n",
       "      <th>Accuracy</th>\n",
       "      <th>CBD</th>\n",
       "    </tr>\n",
       "  </thead>\n",
       "  <tbody>\n",
       "    <tr>\n",
       "      <th>0</th>\n",
       "      <td>0.6983</td>\n",
       "      <td>0.2454</td>\n",
       "    </tr>\n",
       "  </tbody>\n",
       "</table>\n",
       "</div>"
      ],
      "text/plain": [
       "   Accuracy     CBD\n",
       "0    0.6983  0.2454"
      ]
     },
     "execution_count": 15,
     "metadata": {},
     "output_type": "execute_result"
    }
   ],
   "source": [
    "clf = xgb.XGBClassifier(**search.best_params_, objective='binary:logistic', n_jobs=-1)\n",
    "clf.fit(X_train, y_train)\n",
    "\n",
    "predictions = clf.predict(X_test)\n",
    "probabilities = clf.predict_proba(X_test)[:, 1]\n",
    "\n",
    "xgboost = model_summary(y_test, predictions, probabilities, model_name='xgboost')\n",
    "all_models = pd.concat([all_models, xgboost])\n",
    "xgboost[['Accuracy', 'CBD']]"
   ]
  },
  {
   "cell_type": "code",
   "execution_count": 16,
   "metadata": {
    "scrolled": true
   },
   "outputs": [
    {
     "data": {
      "image/png": "[encoded data removed]",
      "text/plain": [
       "<matplotlib.figure.Figure at 0x1c5df07550>"
      ]
     },
     "metadata": {},
     "output_type": "display_data"
    }
   ],
   "source": [
    "xgb.plot_importance(clf);"
   ]
  },
  {
   "cell_type": "markdown",
   "metadata": {},
   "source": [
    "<a href='#top' id='lme'>back to menu</a>"
   ]
  },
  {
   "cell_type": "markdown",
   "metadata": {},
   "source": [
    "## Linear Mixed Effects\n",
    "These models are useful for analyzing data that are dependent, hierarchical, or longitudinal. The tracks and subtracks suggest hierarchy and there is certainly a longitudinal nature of observations by user."
   ]
  },
  {
   "cell_type": "code",
   "execution_count": 17,
   "metadata": {},
   "outputs": [],
   "source": [
    "train, test = train_test_split(gmat_sample, train_size=0.8, random_state=0)"
   ]
  },
  {
   "cell_type": "code",
   "execution_count": 18,
   "metadata": {},
   "outputs": [],
   "source": [
    "X_train = train.drop(['correct', 'user_id'], axis=1)\n",
    "y_train = train.correct\n",
    "g_train = train.user_id\n",
    "\n",
    "X_test = test.drop(['correct', 'user_id'], axis=1)\n",
    "y_test = test.correct\n",
    "g_test = test.user_id"
   ]
  },
  {
   "cell_type": "code",
   "execution_count": 19,
   "metadata": {},
   "outputs": [
    {
     "name": "stdout",
     "output_type": "stream",
     "text": [
      "Started at: 03:20:38\n",
      "fit-time: 3.8 minutes\n",
      "\n"
     ]
    },
    {
     "data": {
      "text/html": [
       "<div>\n",
       "<style scoped>\n",
       "    .dataframe tbody tr th:only-of-type {\n",
       "        vertical-align: middle;\n",
       "    }\n",
       "\n",
       "    .dataframe tbody tr th {\n",
       "        vertical-align: top;\n",
       "    }\n",
       "\n",
       "    .dataframe thead th {\n",
       "        text-align: right;\n",
       "    }\n",
       "</style>\n",
       "<table border=\"1\" class=\"dataframe\">\n",
       "  <thead>\n",
       "    <tr style=\"text-align: right;\">\n",
       "      <th></th>\n",
       "      <th>Accuracy</th>\n",
       "      <th>CBD</th>\n",
       "    </tr>\n",
       "  </thead>\n",
       "  <tbody>\n",
       "    <tr>\n",
       "      <th>0</th>\n",
       "      <td>0.5692</td>\n",
       "      <td>0.3017</td>\n",
       "    </tr>\n",
       "  </tbody>\n",
       "</table>\n",
       "</div>"
      ],
      "text/plain": [
       "   Accuracy     CBD\n",
       "0    0.5692  0.3017"
      ]
     },
     "execution_count": 19,
     "metadata": {},
     "output_type": "execute_result"
    }
   ],
   "source": [
    "start = time()\n",
    "print('Started at:', strftime(\"%H:%M:%S\", localtime()))\n",
    "\n",
    "model = sm.MixedLM(y_train, X_train, g_train).fit()\n",
    "\n",
    "end = time()\n",
    "print('fit-time: {:0.1f} minutes'.format((end-start)/60))\n",
    "print()\n",
    "\n",
    "probabilities = model.predict(X_test)\n",
    "predictions = np.vectorize(snap_probabilities)(probabilities)\n",
    "\n",
    "linear_mixed_effects = model_summary(y_test, predictions, probabilities, model_name='linear_mixed_effects')\n",
    "all_models = pd.concat([all_models, linear_mixed_effects])\n",
    "linear_mixed_effects[['Accuracy', 'CBD']]"
   ]
  },
  {
   "cell_type": "markdown",
   "metadata": {},
   "source": [
    "<a href='#top' id='merf'>back to menu</a>"
   ]
  },
  {
   "cell_type": "markdown",
   "metadata": {},
   "source": [
    "## Mixed Effects Random Forest\n",
    "A method developed by a group of statisticians to account for mixed effects while using Random Forest as the estimator.\n",
    "\n",
    "* Article penned by the developers: https://towardsdatascience.com/mixed-effects-random-forests-6ecbb85cb177\n",
    " \n",
    " \n",
    "* MERF repository: https://github.com/manifoldai/merf"
   ]
  },
  {
   "cell_type": "code",
   "execution_count": 20,
   "metadata": {},
   "outputs": [],
   "source": [
    "from merf.merf import MERF\n",
    "merf = MERF(max_iterations=40)"
   ]
  },
  {
   "cell_type": "code",
   "execution_count": 21,
   "metadata": {},
   "outputs": [],
   "source": [
    "Z_train = np.ones((len(X_train), 1))\n",
    "\n",
    "Z_test = np.ones((len(X_test), 1))"
   ]
  },
  {
   "cell_type": "code",
   "execution_count": 22,
   "metadata": {},
   "outputs": [
    {
     "name": "stdout",
     "output_type": "stream",
     "text": [
      "Started at: 03:24:28\n"
     ]
    },
    {
     "name": "stderr",
     "output_type": "stream",
     "text": [
      "INFO     [merf.py:235] GLL is -153657.55943870117 at iteration 1.\n",
      "INFO     [merf.py:235] GLL is -193085.1360003708 at iteration 2.\n",
      "INFO     [merf.py:235] GLL is -206084.5683104036 at iteration 3.\n",
      "INFO     [merf.py:235] GLL is -213256.78592747622 at iteration 4.\n",
      "INFO     [merf.py:235] GLL is -218785.58184568814 at iteration 5.\n",
      "INFO     [merf.py:235] GLL is -223139.65827645402 at iteration 6.\n",
      "INFO     [merf.py:235] GLL is -226578.03180873123 at iteration 7.\n",
      "INFO     [merf.py:235] GLL is -229604.1038548499 at iteration 8.\n",
      "INFO     [merf.py:235] GLL is -232185.06601577433 at iteration 9.\n",
      "INFO     [merf.py:235] GLL is -234165.21099366597 at iteration 10.\n",
      "INFO     [merf.py:235] GLL is -236142.66511588808 at iteration 11.\n",
      "INFO     [merf.py:235] GLL is -237778.54586785918 at iteration 12.\n",
      "INFO     [merf.py:235] GLL is -239166.09951499035 at iteration 13.\n",
      "INFO     [merf.py:235] GLL is -240709.81766487806 at iteration 14.\n",
      "INFO     [merf.py:235] GLL is -241916.36366340864 at iteration 15.\n",
      "INFO     [merf.py:235] GLL is -242858.61558702952 at iteration 16.\n",
      "INFO     [merf.py:235] GLL is -243769.98852831038 at iteration 17.\n",
      "INFO     [merf.py:235] GLL is -244522.9030687276 at iteration 18.\n",
      "INFO     [merf.py:235] GLL is -245522.8159259302 at iteration 19.\n",
      "INFO     [merf.py:235] GLL is -246089.3229269981 at iteration 20.\n",
      "INFO     [merf.py:235] GLL is -246784.82002124639 at iteration 21.\n",
      "INFO     [merf.py:235] GLL is -247164.13438272715 at iteration 22.\n",
      "INFO     [merf.py:235] GLL is -247764.9193484582 at iteration 23.\n",
      "INFO     [merf.py:235] GLL is -248510.63875777068 at iteration 24.\n",
      "INFO     [merf.py:235] GLL is -248926.1128235452 at iteration 25.\n",
      "INFO     [merf.py:235] GLL is -249140.9765161171 at iteration 26.\n",
      "INFO     [merf.py:235] GLL is -249675.56087668563 at iteration 27.\n",
      "INFO     [merf.py:235] GLL is -250024.85084137745 at iteration 28.\n",
      "INFO     [merf.py:235] GLL is -250507.95840818633 at iteration 29.\n",
      "INFO     [merf.py:235] GLL is -250741.0696787807 at iteration 30.\n",
      "INFO     [merf.py:235] GLL is -251186.37379174866 at iteration 31.\n",
      "INFO     [merf.py:235] GLL is -251371.6674962288 at iteration 32.\n",
      "INFO     [merf.py:235] GLL is -251692.07782851957 at iteration 33.\n",
      "INFO     [merf.py:235] GLL is -252071.58663198305 at iteration 34.\n",
      "INFO     [merf.py:235] GLL is -252184.38202053678 at iteration 35.\n",
      "INFO     [merf.py:235] GLL is -252301.73338377304 at iteration 36.\n",
      "INFO     [merf.py:235] GLL is -252508.2413472892 at iteration 37.\n",
      "INFO     [merf.py:235] GLL is -252687.0690086101 at iteration 38.\n",
      "INFO     [merf.py:235] GLL is -253013.64482840608 at iteration 39.\n",
      "INFO     [merf.py:235] GLL is -253273.31882095378 at iteration 40.\n"
     ]
    },
    {
     "name": "stdout",
     "output_type": "stream",
     "text": [
      "fit-time: 293.4 minutes\n",
      "\n"
     ]
    },
    {
     "data": {
      "text/html": [
       "<div>\n",
       "<style scoped>\n",
       "    .dataframe tbody tr th:only-of-type {\n",
       "        vertical-align: middle;\n",
       "    }\n",
       "\n",
       "    .dataframe tbody tr th {\n",
       "        vertical-align: top;\n",
       "    }\n",
       "\n",
       "    .dataframe thead th {\n",
       "        text-align: right;\n",
       "    }\n",
       "</style>\n",
       "<table border=\"1\" class=\"dataframe\">\n",
       "  <thead>\n",
       "    <tr style=\"text-align: right;\">\n",
       "      <th></th>\n",
       "      <th>Accuracy</th>\n",
       "      <th>CBD</th>\n",
       "    </tr>\n",
       "  </thead>\n",
       "  <tbody>\n",
       "    <tr>\n",
       "      <th>0</th>\n",
       "      <td>0.6683</td>\n",
       "      <td>0.2583</td>\n",
       "    </tr>\n",
       "  </tbody>\n",
       "</table>\n",
       "</div>"
      ],
      "text/plain": [
       "   Accuracy     CBD\n",
       "0    0.6683  0.2583"
      ]
     },
     "execution_count": 22,
     "metadata": {},
     "output_type": "execute_result"
    }
   ],
   "source": [
    "start = time()\n",
    "print('Started at:', strftime(\"%H:%M:%S\", localtime()))\n",
    "\n",
    "model = merf.fit(X_train, Z_train, g_train, y_train)\n",
    "\n",
    "end = time()\n",
    "print('fit-time: {:0.1f} minutes'.format((end-start)/60))\n",
    "print()\n",
    "\n",
    "probabilities = model.predict(X_test, Z_test, g_test)\n",
    "predictions = np.vectorize(snap_probabilities)(probabilities)\n",
    "\n",
    "mixed_effects_randforest = model_summary(y_test, predictions, probabilities, model_name='mixed_effects_randforest')\n",
    "all_models = pd.concat([all_models, mixed_effects_randforest])\n",
    "mixed_effects_randforest[['Accuracy', 'CBD']]"
   ]
  },
  {
   "cell_type": "markdown",
   "metadata": {},
   "source": [
    "## Summary of GMAT Models"
   ]
  },
  {
   "cell_type": "code",
   "execution_count": 23,
   "metadata": {},
   "outputs": [
    {
     "data": {
      "text/html": [
       "<div>\n",
       "<style scoped>\n",
       "    .dataframe tbody tr th:only-of-type {\n",
       "        vertical-align: middle;\n",
       "    }\n",
       "\n",
       "    .dataframe tbody tr th {\n",
       "        vertical-align: top;\n",
       "    }\n",
       "\n",
       "    .dataframe thead th {\n",
       "        text-align: right;\n",
       "    }\n",
       "</style>\n",
       "<table border=\"1\" class=\"dataframe\">\n",
       "  <thead>\n",
       "    <tr style=\"text-align: right;\">\n",
       "      <th></th>\n",
       "      <th>Accuracy</th>\n",
       "      <th>CBD</th>\n",
       "    </tr>\n",
       "    <tr>\n",
       "      <th>model_name</th>\n",
       "      <th></th>\n",
       "      <th></th>\n",
       "    </tr>\n",
       "  </thead>\n",
       "  <tbody>\n",
       "    <tr>\n",
       "      <th>xgboost</th>\n",
       "      <td>0.6983</td>\n",
       "      <td>0.2454</td>\n",
       "    </tr>\n",
       "    <tr>\n",
       "      <th>random_forest</th>\n",
       "      <td>0.6687</td>\n",
       "      <td>0.2554</td>\n",
       "    </tr>\n",
       "    <tr>\n",
       "      <th>mixed_effects_randforest</th>\n",
       "      <td>0.6683</td>\n",
       "      <td>0.2583</td>\n",
       "    </tr>\n",
       "    <tr>\n",
       "      <th>logistic_regression</th>\n",
       "      <td>0.6164</td>\n",
       "      <td>0.2889</td>\n",
       "    </tr>\n",
       "    <tr>\n",
       "      <th>linear_mixed_effects</th>\n",
       "      <td>0.5692</td>\n",
       "      <td>0.3017</td>\n",
       "    </tr>\n",
       "  </tbody>\n",
       "</table>\n",
       "</div>"
      ],
      "text/plain": [
       "                          Accuracy     CBD\n",
       "model_name                                \n",
       "xgboost                     0.6983  0.2454\n",
       "random_forest               0.6687  0.2554\n",
       "mixed_effects_randforest    0.6683  0.2583\n",
       "logistic_regression         0.6164  0.2889\n",
       "linear_mixed_effects        0.5692  0.3017"
      ]
     },
     "execution_count": 23,
     "metadata": {},
     "output_type": "execute_result"
    }
   ],
   "source": [
    "compare_models = all_models.copy()\n",
    "compare_models.set_index('model_name', inplace=True)\n",
    "compare_models.sort_values(by=['Accuracy'], ascending=False)"
   ]
  },
  {
   "cell_type": "markdown",
   "metadata": {},
   "source": [
    "<a href='#top' id='best'>back to menu</a>"
   ]
  },
  {
   "cell_type": "markdown",
   "metadata": {},
   "source": [
    "## Best Model with Dedicated Users Only"
   ]
  },
  {
   "cell_type": "code",
   "execution_count": 24,
   "metadata": {},
   "outputs": [
    {
     "data": {
      "text/plain": [
       "1920898"
      ]
     },
     "execution_count": 24,
     "metadata": {},
     "output_type": "execute_result"
    }
   ],
   "source": [
    "atleast_30 = gmat.groupby('user_id').filter(lambda x: x['user_id'].count() >= 30)\n",
    "len(atleast_30)"
   ]
  },
  {
   "cell_type": "code",
   "execution_count": 25,
   "metadata": {},
   "outputs": [
    {
     "data": {
      "text/plain": [
       "250000"
      ]
     },
     "execution_count": 25,
     "metadata": {},
     "output_type": "execute_result"
    }
   ],
   "source": [
    "gmat_sample = atleast_30.sample(250000, weights=gmat.user_id, axis=0, random_state=0)\n",
    "len(gmat_sample)"
   ]
  },
  {
   "cell_type": "code",
   "execution_count": 26,
   "metadata": {},
   "outputs": [],
   "source": [
    "X = gmat_sample.drop('correct', axis=1)\n",
    "y = gmat_sample.correct\n",
    "\n",
    "X_train, X_test, y_train, y_test = train_test_split(X, y, train_size=0.8, random_state=0)"
   ]
  },
  {
   "cell_type": "code",
   "execution_count": 28,
   "metadata": {
    "scrolled": true
   },
   "outputs": [
    {
     "name": "stdout",
     "output_type": "stream",
     "text": [
      "Started at: 08:34:35\n",
      "Fitting 4 folds for each of 36 candidates, totalling 144 fits\n"
     ]
    },
    {
     "name": "stderr",
     "output_type": "stream",
     "text": [
      "[Parallel(n_jobs=1)]: Done 144 out of 144 | elapsed: 82.4min finished\n"
     ]
    },
    {
     "name": "stdout",
     "output_type": "stream",
     "text": [
      "fit-time: 82.8 minutes\n",
      "\n",
      "Best Parameters:  {'colsample_bytree': 0.25, 'max_depth': 20, 'min_child_weight': 5}\n"
     ]
    }
   ],
   "source": [
    "warnings.filterwarnings('ignore')\n",
    "import xgboost as xgb\n",
    "\n",
    "param_grid = {\n",
    "    'max_depth': [5, 10, 20],\n",
    "    'min_child_weight': [1, 5, 10],\n",
    "    'colsample_bytree': [0.25, 0.5, 0.75, 1]\n",
    "}\n",
    "\n",
    "# Instantiate classifier:\n",
    "clf = xgb.XGBClassifier(objective='binary:logistic')\n",
    "\n",
    "# Search and Fit:\n",
    "search = GridSearchCV(estimator=clf, param_grid=param_grid, scoring='accuracy', cv=4, verbose=1)\n",
    "\n",
    "start = time()\n",
    "print('Started at:', strftime('%H:%M:%S', localtime()))\n",
    "\n",
    "search.fit(X_train, y_train)\n",
    "\n",
    "end = time()\n",
    "\n",
    "print(\"Best Parameters: \", search.best_params_)"
   ]
  },
  {
   "cell_type": "code",
   "execution_count": 29,
   "metadata": {},
   "outputs": [
    {
     "data": {
      "text/html": [
       "<div>\n",
       "<style scoped>\n",
       "    .dataframe tbody tr th:only-of-type {\n",
       "        vertical-align: middle;\n",
       "    }\n",
       "\n",
       "    .dataframe tbody tr th {\n",
       "        vertical-align: top;\n",
       "    }\n",
       "\n",
       "    .dataframe thead th {\n",
       "        text-align: right;\n",
       "    }\n",
       "</style>\n",
       "<table border=\"1\" class=\"dataframe\">\n",
       "  <thead>\n",
       "    <tr style=\"text-align: right;\">\n",
       "      <th></th>\n",
       "      <th>Accuracy</th>\n",
       "      <th>CBD</th>\n",
       "    </tr>\n",
       "  </thead>\n",
       "  <tbody>\n",
       "    <tr>\n",
       "      <th>0</th>\n",
       "      <td>0.7109</td>\n",
       "      <td>0.2411</td>\n",
       "    </tr>\n",
       "  </tbody>\n",
       "</table>\n",
       "</div>"
      ],
      "text/plain": [
       "   Accuracy     CBD\n",
       "0    0.7109  0.2411"
      ]
     },
     "execution_count": 29,
     "metadata": {},
     "output_type": "execute_result"
    }
   ],
   "source": [
    "clf = xgb.XGBClassifier(**search.best_params_, objective='binary:logistic', n_jobs=-1)\n",
    "clf.fit(X_train, y_train)\n",
    "\n",
    "predictions = clf.predict(X_test)\n",
    "probabilities = clf.predict_proba(X_test)[:, 1]\n",
    "\n",
    "xgboost_30 = model_summary(y_test, predictions, probabilities, model_name='xgboost_30')\n",
    "all_models = pd.concat([all_models, xgboost_30])\n",
    "xgboost_30[['Accuracy', 'CBD']]"
   ]
  },
  {
   "cell_type": "code",
   "execution_count": 39,
   "metadata": {
    "scrolled": false
   },
   "outputs": [
    {
     "data": {
      "image/png": "[encoded data removed]",
      "text/plain": [
       "<matplotlib.figure.Figure at 0x1c5ab5c588>"
      ]
     },
     "metadata": {},
     "output_type": "display_data"
    }
   ],
   "source": [
    "# Create bar plot for outcome distribution:\n",
    "plt.style.use('fivethirtyeight')\n",
    "from matplotlib import rcParams\n",
    "rcParams['font.family'] = 'monospace'\n",
    "\n",
    "# fig, ax = plt.subplots(figsize=(12, 8))\n",
    "features_grph = xgb.plot_importance(clf)\n",
    "features_grph.axvline(x=0, color='#D9971A', linewidth=7)\n",
    "\n",
    "# Create axis labels and the title:\n",
    "features_grph.xaxis.label.set_visible(False)\n",
    "features_grph.yaxis.label.set_visible(False)\n",
    "features_grph.title.set_visible(False)\n",
    "features_grph.text(x=-30000, y=-5, \n",
    "                  s='  Predicting Assessment Mastery                          XGBoost, Dedicated Users  ', \n",
    "                  fontsize=18, color='#ffffff', backgroundcolor='#808785')\n",
    "\n",
    "# Add a title bar with some space at the top:\n",
    "features_grph.text(x=0, y=13, s=' ', fontsize=24)\n",
    "features_grph.text(x=-25000, y=11, s='The best model determined the most important predictors\\nof student success in the test application are:', fontsize=24, weight='bold', color='#5A5F5E')\n",
    "\n",
    "# Save and display the plot:\n",
    "plt.savefig('../reports/figures/strongest_features.png', bbox_inches='tight');"
   ]
  },
  {
   "cell_type": "code",
   "execution_count": 31,
   "metadata": {},
   "outputs": [
    {
     "name": "stdout",
     "output_type": "stream",
     "text": [
      "09:58:01\n"
     ]
    }
   ],
   "source": [
    "print(strftime('%H:%M:%S', localtime()))"
   ]
  },
  {
   "cell_type": "markdown",
   "metadata": {},
   "source": [
    "<a href='#top' id='summary'>back to menu</a>"
   ]
  },
  {
   "cell_type": "markdown",
   "metadata": {},
   "source": [
    "---\n",
    "## SUMMARY & CONCLUSIONS"
   ]
  },
  {
   "cell_type": "code",
   "execution_count": 32,
   "metadata": {},
   "outputs": [
    {
     "data": {
      "text/html": [
       "<div>\n",
       "<style scoped>\n",
       "    .dataframe tbody tr th:only-of-type {\n",
       "        vertical-align: middle;\n",
       "    }\n",
       "\n",
       "    .dataframe tbody tr th {\n",
       "        vertical-align: top;\n",
       "    }\n",
       "\n",
       "    .dataframe thead th {\n",
       "        text-align: right;\n",
       "    }\n",
       "</style>\n",
       "<table border=\"1\" class=\"dataframe\">\n",
       "  <thead>\n",
       "    <tr style=\"text-align: right;\">\n",
       "      <th></th>\n",
       "      <th>Accuracy</th>\n",
       "      <th>CBD</th>\n",
       "    </tr>\n",
       "    <tr>\n",
       "      <th>model_name</th>\n",
       "      <th></th>\n",
       "      <th></th>\n",
       "    </tr>\n",
       "  </thead>\n",
       "  <tbody>\n",
       "    <tr>\n",
       "      <th>xgboost_30</th>\n",
       "      <td>0.7109</td>\n",
       "      <td>0.2411</td>\n",
       "    </tr>\n",
       "    <tr>\n",
       "      <th>xgboost</th>\n",
       "      <td>0.6983</td>\n",
       "      <td>0.2454</td>\n",
       "    </tr>\n",
       "    <tr>\n",
       "      <th>random_forest</th>\n",
       "      <td>0.6687</td>\n",
       "      <td>0.2554</td>\n",
       "    </tr>\n",
       "    <tr>\n",
       "      <th>mixed_effects_randforest</th>\n",
       "      <td>0.6683</td>\n",
       "      <td>0.2583</td>\n",
       "    </tr>\n",
       "    <tr>\n",
       "      <th>logistic_regression</th>\n",
       "      <td>0.6164</td>\n",
       "      <td>0.2889</td>\n",
       "    </tr>\n",
       "    <tr>\n",
       "      <th>linear_mixed_effects</th>\n",
       "      <td>0.5692</td>\n",
       "      <td>0.3017</td>\n",
       "    </tr>\n",
       "  </tbody>\n",
       "</table>\n",
       "</div>"
      ],
      "text/plain": [
       "                          Accuracy     CBD\n",
       "model_name                                \n",
       "xgboost_30                  0.7109  0.2411\n",
       "xgboost                     0.6983  0.2454\n",
       "random_forest               0.6687  0.2554\n",
       "mixed_effects_randforest    0.6683  0.2583\n",
       "logistic_regression         0.6164  0.2889\n",
       "linear_mixed_effects        0.5692  0.3017"
      ]
     },
     "execution_count": 32,
     "metadata": {},
     "output_type": "execute_result"
    }
   ],
   "source": [
    "compare_models = all_models.copy()\n",
    "compare_models.set_index('model_name', inplace=True)\n",
    "compare_models.sort_values(by=['Accuracy'], ascending=False)"
   ]
  },
  {
   "cell_type": "markdown",
   "metadata": {},
   "source": [
    "Exploratory data analysis and machine learning back up the intuition that the more a user practices the more successful they are in answering questions. More importantly, both show that dedicated users provide enough data for a more reliable analysis of their performance. Features related to subject matter and ‘game’ structure were less helpful as predictors. \n",
    "\n",
    "### Recommendation to Test Developers: \n",
    "To better understand user progress and improve test applications, developers are encouraged to incentivize users to attempt at least 30 questions."
   ]
  },
  {
   "cell_type": "markdown",
   "metadata": {},
   "source": [
    "---\n",
    "## [Final Report](https://github.com/humburgc/predicting_assessment_mastery/blob/master/reports/final_report.pdf)\n",
    "\n",
    "\n",
    "## [Presentation](https://github.com/humburgc/predicting_assessment_mastery/blob/master/reports/presentation.pdf)\n",
    "\n",
    "<br>"
   ]
  }
 ],
 "metadata": {
  "kernelspec": {
   "display_name": "Python 3",
   "language": "python",
   "name": "python3"
  },
  "language_info": {
   "codemirror_mode": {
    "name": "ipython",
    "version": 3
   },
   "file_extension": ".py",
   "mimetype": "text/x-python",
   "name": "python",
   "nbconvert_exporter": "python",
   "pygments_lexer": "ipython3",
   "version": "3.6.4"
  }
 },
 "nbformat": 4,
 "nbformat_minor": 2
}
